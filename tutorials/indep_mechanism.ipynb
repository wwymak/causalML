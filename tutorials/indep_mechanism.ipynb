{
 "cells": [
  {
   "cell_type": "markdown",
   "metadata": {},
   "source": [
    "# Independence of mechanism"
   ]
  },
  {
   "cell_type": "markdown",
   "metadata": {},
   "source": [
    "The idea is that the parameters of causal Markov kernel for a node should be independent of that nodes causes"
   ]
  },
  {
   "cell_type": "code",
   "execution_count": null,
   "metadata": {},
   "outputs": [],
   "source": [
    "import torch\n",
    "import pyro\n",
    "import pyro.distributions as dist\n",
    "import numpy as np\n",
    "#true model\n",
    "def true_model():\n",
    "    alpha = pyro.sample('alpha', dist.Normal(2.0, 1.0))\n",
    "    X = pyro.sample('X', dist.Normal(alpha,1.0))\n",
    "    beta = pyro.sample('beta', dist.Normal(3.0,1.0))\n",
    "    Y_mean = beta*(X**2)\n",
    "    Y = pyro.sample('Y', dist.Normal(Y_mean,1.0))\n",
    "    return X,Y\n",
    "true_model()"
   ]
  }
 ],
 "metadata": {
  "kernelspec": {
   "display_name": "Python 3",
   "language": "python",
   "name": "python3"
  },
  "language_info": {
   "codemirror_mode": {
    "name": "ipython",
    "version": 3
   },
   "file_extension": ".py",
   "mimetype": "text/x-python",
   "name": "python",
   "nbconvert_exporter": "python",
   "pygments_lexer": "ipython3",
   "version": "3.7.3"
  }
 },
 "nbformat": 4,
 "nbformat_minor": 2
}
