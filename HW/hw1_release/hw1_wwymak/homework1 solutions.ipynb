{
 "cells": [
  {
   "cell_type": "code",
   "execution_count": 1,
   "metadata": {},
   "outputs": [
    {
     "name": "stderr",
     "output_type": "stream",
     "text": [
      "/home/wwymak/anaconda3/envs/immo-ml/lib/python3.7/site-packages/statsmodels/tools/_testing.py:19: FutureWarning: pandas.util.testing is deprecated. Use the functions in the public API at pandas.testing instead.\n",
      "  import pandas.util.testing as tm\n"
     ]
    }
   ],
   "source": [
    "\n",
    "from pgmpy.models import BayesianModel\n",
    "from pgmpy.estimators import BayesianEstimator\n",
    "from pgmpy.estimators import ConstraintBasedEstimator\n",
    "from pgmpy.estimators import K2Score, BicScore, MLE\n",
    "import networkx as nx\n",
    "import matplotlib.pyplot as plt\n",
    "import graphviz\n",
    "import pandas as pd\n",
    "import torch\n",
    "import pyro\n",
    "import numpy as np\n",
    "%matplotlib inline\n",
    "%load_ext autoreload\n",
    "%autoreload 2"
   ]
  },
  {
   "cell_type": "markdown",
   "metadata": {},
   "source": [
    "#### Building a DAG (based on the transport model)\n",
    "\n",
    "![](survey.png)"
   ]
  },
  {
   "cell_type": "markdown",
   "metadata": {},
   "source": [
    "1a) factorization of the joint distribution:\n",
    "    \n",
    "P(A, S, E, O, R, T) = P(A)P(S)P(E|A, S)P(R|E)P(O|E)P(T| R, O)"
   ]
  },
  {
   "cell_type": "markdown",
   "metadata": {},
   "source": [
    "1b, c)"
   ]
  },
  {
   "cell_type": "code",
   "execution_count": 2,
   "metadata": {},
   "outputs": [],
   "source": [
    "transport_model = BayesianModel([('Age', 'Education'), \n",
    "                                 ('Sex', 'Education'),\n",
    "                                 ('Education', 'Occupation'),\n",
    "                                 ('Education', 'Resident'),\n",
    "                                 ('Occupation', 'Transport'),\n",
    "                                 ('Resident', 'Transport')\n",
    "                                ])"
   ]
  },
  {
   "cell_type": "markdown",
   "metadata": {},
   "source": [
    "1d)"
   ]
  },
  {
   "cell_type": "code",
   "execution_count": 3,
   "metadata": {},
   "outputs": [
    {
     "data": {
      "text/plain": [
       "<pgmpy.models.BayesianModel.BayesianModel at 0x7f0c10305550>"
      ]
     },
     "execution_count": 3,
     "metadata": {},
     "output_type": "execute_result"
    }
   ],
   "source": [
    "transport_model"
   ]
  },
  {
   "cell_type": "code",
   "execution_count": 4,
   "metadata": {},
   "outputs": [
    {
     "data": {
      "image/png": "[encoded data removed]",
      "text/plain": [
       "<Figure size 432x288 with 1 Axes>"
      ]
     },
     "metadata": {},
     "output_type": "display_data"
    }
   ],
   "source": [
    "pos1 = nx.nx_pydot.graphviz_layout(transport_model, prog='dot')\n",
    "nx.draw(transport_model, pos1, with_labels=True)\n",
    "plt.show()"
   ]
  },
  {
   "cell_type": "markdown",
   "metadata": {},
   "source": [
    "2a)"
   ]
  },
  {
   "cell_type": "code",
   "execution_count": 5,
   "metadata": {},
   "outputs": [
    {
     "data": {
      "text/plain": [
       "NodeView(('Age', 'Education', 'Sex', 'Occupation', 'Resident', 'Transport'))"
      ]
     },
     "execution_count": 5,
     "metadata": {},
     "output_type": "execute_result"
    }
   ],
   "source": [
    "transport_model.nodes"
   ]
  },
  {
   "cell_type": "code",
   "execution_count": 6,
   "metadata": {},
   "outputs": [
    {
     "data": {
      "text/plain": [
       "OutEdgeView([('Age', 'Education'), ('Education', 'Occupation'), ('Education', 'Resident'), ('Sex', 'Education'), ('Occupation', 'Transport'), ('Resident', 'Transport')])"
      ]
     },
     "execution_count": 6,
     "metadata": {},
     "output_type": "execute_result"
    }
   ],
   "source": [
    "transport_model.edges"
   ]
  },
  {
   "cell_type": "markdown",
   "metadata": {},
   "source": [
    "2b)"
   ]
  },
  {
   "cell_type": "code",
   "execution_count": 7,
   "metadata": {},
   "outputs": [
    {
     "name": "stdout",
     "output_type": "stream",
     "text": [
      "node: Age, parents: [], children: ['Education']\n",
      "node: Education, parents: ['Age', 'Sex'], children: ['Occupation', 'Resident']\n",
      "node: Sex, parents: [], children: ['Education']\n",
      "node: Occupation, parents: ['Education'], children: ['Transport']\n",
      "node: Resident, parents: ['Education'], children: ['Transport']\n",
      "node: Transport, parents: ['Occupation', 'Resident'], children: []\n"
     ]
    }
   ],
   "source": [
    "for node in transport_model.nodes:\n",
    "    print(f\"node: {node}, parents: {transport_model.get_parents(node)}, children: {transport_model.get_children(node)}\")"
   ]
  },
  {
   "cell_type": "markdown",
   "metadata": {},
   "source": [
    "2c)"
   ]
  },
  {
   "cell_type": "code",
   "execution_count": 8,
   "metadata": {},
   "outputs": [
    {
     "data": {
      "text/plain": [
       "['Sex', 'Education']"
      ]
     },
     "execution_count": 8,
     "metadata": {},
     "output_type": "execute_result"
    }
   ],
   "source": [
    "#Markov blanket of 'A'\n",
    "transport_model.get_markov_blanket('Age')"
   ]
  },
  {
   "cell_type": "code",
   "execution_count": 9,
   "metadata": {},
   "outputs": [
    {
     "data": {
      "text/plain": [
       "['Sex', 'Age', 'Resident', 'Occupation']"
      ]
     },
     "execution_count": 9,
     "metadata": {},
     "output_type": "execute_result"
    }
   ],
   "source": [
    "#Markov blanket of 'E'\n",
    "transport_model.get_markov_blanket('Education')"
   ]
  },
  {
   "cell_type": "code",
   "execution_count": 10,
   "metadata": {},
   "outputs": [
    {
     "name": "stdout",
     "output_type": "stream",
     "text": [
      "Transport has no markov blanket\n"
     ]
    }
   ],
   "source": [
    "#Markov blanket of 'T'\n",
    "try:\n",
    "    transport_model.get_markov_blanket('Transport')\n",
    "except KeyError as e:\n",
    "    print(f\"Transport has no markov blanket\")"
   ]
  },
  {
   "cell_type": "markdown",
   "metadata": {},
   "source": [
    "2d) For each node, it's markov blanket are the set of nodes which if you know the values of (so they are fixed and no longer probabilities), then that node is independent of all the other nodes in the network"
   ]
  },
  {
   "cell_type": "markdown",
   "metadata": {},
   "source": [
    "2e) The Markov blanket for a node is the set of nodes consisting of the node's parents, it's children, and it's children's other parents.\n",
    "\n",
    "E.g. for A, it's got no parents, but it has a child('E') and the child has another parent ('S'), so A's markov blanket is S, E\n",
    "\n",
    "Similarly, for E, parents are A, S, children O, R (these have no other children besides E), so markov blanket for E is A, S, O, R"
   ]
  },
  {
   "cell_type": "markdown",
   "metadata": {},
   "source": [
    "3a)"
   ]
  },
  {
   "cell_type": "code",
   "execution_count": 11,
   "metadata": {},
   "outputs": [],
   "source": [
    "data = pd.read_csv('survey2.txt', sep=\" \")\n",
    "data = data.rename(columns={\"A\": \"Age\", \"R\": \"Resident\", \"E\": \"Education\",  \"O\":\"Occupation\",\n",
    "                            \"S\": \"Sex\", \"T\" :\"Transport\"})\n",
    "\n"
   ]
  },
  {
   "cell_type": "code",
   "execution_count": 12,
   "metadata": {},
   "outputs": [],
   "source": [
    "def create_and_fit_model(data, estimator, equivalent_sample_size):\n",
    "    transport_model = BayesianModel([('Age', 'Education'), \n",
    "                                 ('Sex', 'Education'),\n",
    "                                 ('Education', 'Occupation'),\n",
    "                                 ('Education', 'Resident'),\n",
    "                                 ('Occupation', 'Transport'),\n",
    "                                 ('Resident', 'Transport')\n",
    "                                ])\n",
    "    transport_model.fit(data, estimator=estimator, equivalent_sample_size=equivalent_sample_size)\n",
    "    return transport_model"
   ]
  },
  {
   "cell_type": "markdown",
   "metadata": {},
   "source": [
    "3b)"
   ]
  },
  {
   "cell_type": "code",
   "execution_count": 13,
   "metadata": {
    "scrolled": false
   },
   "outputs": [
    {
     "name": "stdout",
     "output_type": "stream",
     "text": [
      "equivalent_sample_sizes/iss: 1\n",
      "+------------+----------+\n",
      "| Age(adult) | 0.357539 |\n",
      "+------------+----------+\n",
      "| Age(old)   | 0.157842 |\n",
      "+------------+----------+\n",
      "| Age(young) | 0.484619 |\n",
      "+------------+----------+\n",
      "+-----------------+---------------------+---------------------+--------------------+---------------------+---------------------+---------------------+\n",
      "| Age             | Age(adult)          | Age(adult)          | Age(old)           | Age(old)            | Age(young)          | Age(young)          |\n",
      "+-----------------+---------------------+---------------------+--------------------+---------------------+---------------------+---------------------+\n",
      "| Sex             | Sex(F)              | Sex(M)              | Sex(F)             | Sex(M)              | Sex(F)              | Sex(M)              |\n",
      "+-----------------+---------------------+---------------------+--------------------+---------------------+---------------------+---------------------+\n",
      "| Education(high) | 0.6389365351629502  | 0.7191616766467066  | 0.8446808510638297 | 0.8913043478260869  | 0.15581051073279054 | 0.8099824868651488  |\n",
      "+-----------------+---------------------+---------------------+--------------------+---------------------+---------------------+---------------------+\n",
      "| Education(uni)  | 0.36106346483704976 | 0.28083832335329345 | 0.1553191489361702 | 0.10869565217391303 | 0.8441894892672095  | 0.19001751313485116 |\n",
      "+-----------------+---------------------+---------------------+--------------------+---------------------+---------------------+---------------------+\n",
      "+--------+----------+\n",
      "| Sex(F) | 0.546899 |\n",
      "+--------+----------+\n",
      "| Sex(M) | 0.453101 |\n",
      "+--------+----------+\n",
      "+------------------+----------------------+---------------------+\n",
      "| Education        | Education(high)      | Education(uni)      |\n",
      "+------------------+----------------------+---------------------+\n",
      "| Occupation(emp)  | 0.9801641586867305   | 0.9653130287648054  |\n",
      "+------------------+----------------------+---------------------+\n",
      "| Occupation(self) | 0.019835841313269494 | 0.03468697123519458 |\n",
      "+------------------+----------------------+---------------------+\n",
      "+-----------------+---------------------+---------------------+\n",
      "| Education       | Education(high)     | Education(uni)      |\n",
      "+-----------------+---------------------+---------------------+\n",
      "| Resident(big)   | 0.7175102599179206  | 0.9382402707275804  |\n",
      "+-----------------+---------------------+---------------------+\n",
      "| Resident(small) | 0.28248974008207933 | 0.06175972927241963 |\n",
      "+-----------------+---------------------+---------------------+\n",
      "+------------------+---------------------+---------------------+---------------------+--------------------+\n",
      "| Occupation       | Occupation(emp)     | Occupation(emp)     | Occupation(self)    | Occupation(self)   |\n",
      "+------------------+---------------------+---------------------+---------------------+--------------------+\n",
      "| Resident         | Resident(big)       | Resident(small)     | Resident(big)       | Resident(small)    |\n",
      "+------------------+---------------------+---------------------+---------------------+--------------------+\n",
      "| Transport(car)   | 0.7108471892319873  | 0.5465529495380241  | 0.6855345911949685  | 0.7254901960784315 |\n",
      "+------------------+---------------------+---------------------+---------------------+--------------------+\n",
      "| Transport(other) | 0.1388756927949327  | 0.07746979388770434 | 0.15723270440251572 | 0.2549019607843137 |\n",
      "+------------------+---------------------+---------------------+---------------------+--------------------+\n",
      "| Transport(train) | 0.15027711797307997 | 0.3759772565742715  | 0.15723270440251572 | 0.0196078431372549 |\n",
      "+------------------+---------------------+---------------------+---------------------+--------------------+\n",
      "equivalent_sample_sizes/iss: 10\n",
      "+------------+----------+\n",
      "| Age(adult) | 0.357214 |\n",
      "+------------+----------+\n",
      "| Age(old)   | 0.160199 |\n",
      "+------------+----------+\n",
      "| Age(young) | 0.482587 |\n",
      "+------------+----------+\n",
      "+-----------------+---------------------+-------------------+---------------------+----------+---------------------+---------------------+\n",
      "| Age             | Age(adult)          | Age(adult)        | Age(old)            | Age(old) | Age(young)          | Age(young)          |\n",
      "+-----------------+---------------------+-------------------+---------------------+----------+---------------------+---------------------+\n",
      "| Sex             | Sex(F)              | Sex(M)            | Sex(F)              | Sex(M)   | Sex(F)              | Sex(M)              |\n",
      "+-----------------+---------------------+-------------------+---------------------+----------+---------------------+---------------------+\n",
      "| Education(high) | 0.6368243243243243  | 0.716824644549763 | 0.8319672131147541  | 0.8825   | 0.15808823529411764 | 0.8051724137931034  |\n",
      "+-----------------+---------------------+-------------------+---------------------+----------+---------------------+---------------------+\n",
      "| Education(uni)  | 0.36317567567567566 | 0.283175355450237 | 0.16803278688524587 | 0.1175   | 0.8419117647058824  | 0.19482758620689655 |\n",
      "+-----------------+---------------------+-------------------+---------------------+----------+---------------------+---------------------+\n",
      "+--------+----------+\n",
      "| Sex(F) | 0.546269 |\n",
      "+--------+----------+\n",
      "| Sex(M) | 0.453731 |\n",
      "+--------+----------+\n",
      "+------------------+----------------------+----------------------+\n",
      "| Education        | Education(high)      | Education(uni)       |\n",
      "+------------------+----------------------+----------------------+\n",
      "| Occupation(emp)  | 0.9743243243243244   | 0.9583333333333334   |\n",
      "+------------------+----------------------+----------------------+\n",
      "| Occupation(self) | 0.025675675675675677 | 0.041666666666666664 |\n",
      "+------------------+----------------------+----------------------+\n",
      "+-----------------+--------------------+---------------------+\n",
      "| Education       | Education(high)    | Education(uni)      |\n",
      "+-----------------+--------------------+---------------------+\n",
      "| Resident(big)   | 0.7148648648648649 | 0.9316666666666666  |\n",
      "+-----------------+--------------------+---------------------+\n",
      "| Resident(small) | 0.2851351351351351 | 0.06833333333333333 |\n",
      "+-----------------+--------------------+---------------------+\n",
      "+------------------+---------------------+---------------------+---------------------+---------------------+\n",
      "| Occupation       | Occupation(emp)     | Occupation(emp)     | Occupation(self)    | Occupation(self)    |\n",
      "+------------------+---------------------+---------------------+---------------------+---------------------+\n",
      "| Resident         | Resident(big)       | Resident(small)     | Resident(big)       | Resident(small)     |\n",
      "+------------------+---------------------+---------------------+---------------------+---------------------+\n",
      "| Transport(car)   | 0.7092399873856827  | 0.5425383542538353  | 0.6344086021505376  | 0.5897435897435898  |\n",
      "+------------------+---------------------+---------------------+---------------------+---------------------+\n",
      "| Transport(other) | 0.13970356354462313 | 0.08228730822873083 | 0.18279569892473116 | 0.28205128205128205 |\n",
      "+------------------+---------------------+---------------------+---------------------+---------------------+\n",
      "| Transport(train) | 0.1510564490696941  | 0.3751743375174338  | 0.18279569892473116 | 0.12820512820512822 |\n",
      "+------------------+---------------------+---------------------+---------------------+---------------------+\n",
      "equivalent_sample_sizes/iss: 20\n",
      "+------------+----------+\n",
      "| Age(adult) | 0.356863 |\n",
      "+------------+----------+\n",
      "| Age(old)   | 0.162745 |\n",
      "+------------+----------+\n",
      "| Age(young) | 0.480392 |\n",
      "+------------+----------+\n",
      "+-----------------+--------------------+--------------------+---------------------+---------------------+---------------------+---------------------+\n",
      "| Age             | Age(adult)         | Age(adult)         | Age(old)            | Age(old)            | Age(young)          | Age(young)          |\n",
      "+-----------------+--------------------+--------------------+---------------------+---------------------+---------------------+---------------------+\n",
      "| Sex             | Sex(F)             | Sex(M)             | Sex(F)              | Sex(M)              | Sex(F)              | Sex(M)              |\n",
      "+-----------------+--------------------+--------------------+---------------------+---------------------+---------------------+---------------------+\n",
      "| Education(high) | 0.6345514950166113 | 0.7142857142857143 | 0.8188976377952756  | 0.8731707317073171  | 0.16058394160583941 | 0.7999999999999999  |\n",
      "+-----------------+--------------------+--------------------+---------------------+---------------------+---------------------+---------------------+\n",
      "| Education(uni)  | 0.3654485049833887 | 0.2857142857142857 | 0.18110236220472445 | 0.12682926829268293 | 0.8394160583941606  | 0.19999999999999998 |\n",
      "+-----------------+--------------------+--------------------+---------------------+---------------------+---------------------+---------------------+\n",
      "+--------+----------+\n",
      "| Sex(F) | 0.545588 |\n",
      "+--------+----------+\n",
      "| Sex(M) | 0.454412 |\n",
      "+--------+----------+\n",
      "+------------------+-----------------+---------------------+\n",
      "| Education        | Education(high) | Education(uni)      |\n",
      "+------------------+-----------------+---------------------+\n",
      "| Occupation(emp)  | 0.968           | 0.9508196721311475  |\n",
      "+------------------+-----------------+---------------------+\n",
      "| Occupation(self) | 0.032           | 0.04918032786885246 |\n",
      "+------------------+-----------------+---------------------+\n",
      "+-----------------+-----------------+---------------------+\n",
      "| Education       | Education(high) | Education(uni)      |\n",
      "+-----------------+-----------------+---------------------+\n",
      "| Resident(big)   | 0.712           | 0.9245901639344263  |\n",
      "+-----------------+-----------------+---------------------+\n",
      "| Resident(small) | 0.288           | 0.07540983606557378 |\n",
      "+-----------------+-----------------+---------------------+\n",
      "+------------------+---------------------+---------------------+---------------------+---------------------+\n",
      "| Occupation       | Occupation(emp)     | Occupation(emp)     | Occupation(self)    | Occupation(self)    |\n",
      "+------------------+---------------------+---------------------+---------------------+---------------------+\n",
      "| Resident         | Resident(big)       | Resident(small)     | Resident(big)       | Resident(small)     |\n",
      "+------------------+---------------------+---------------------+---------------------+---------------------+\n",
      "| Transport(car)   | 0.7074701820464533  | 0.5382513661202186  | 0.5925925925925926  | 0.5185185185185186  |\n",
      "+------------------+---------------------+---------------------+---------------------+---------------------+\n",
      "| Transport(other) | 0.1406151914626491  | 0.08743169398907104 | 0.20370370370370372 | 0.29629629629629634 |\n",
      "+------------------+---------------------+---------------------+---------------------+---------------------+\n",
      "| Transport(train) | 0.15191462649089768 | 0.37431693989071035 | 0.20370370370370372 | 0.1851851851851852  |\n",
      "+------------------+---------------------+---------------------+---------------------+---------------------+\n"
     ]
    },
    {
     "name": "stdout",
     "output_type": "stream",
     "text": [
      "equivalent_sample_sizes/iss: 100\n",
      "+------------+----------+\n",
      "| Age(adult) | 0.354386 |\n",
      "+------------+----------+\n",
      "| Age(old)   | 0.180702 |\n",
      "+------------+----------+\n",
      "| Age(young) | 0.464912 |\n",
      "+------------+----------+\n",
      "+-----------------+---------------------+---------------------+---------------------+---------------------+--------------------+--------------------+\n",
      "| Age             | Age(adult)          | Age(adult)          | Age(old)            | Age(old)            | Age(young)         | Age(young)         |\n",
      "+-----------------+---------------------+---------------------+---------------------+---------------------+--------------------+--------------------+\n",
      "| Sex             | Sex(F)              | Sex(M)              | Sex(F)              | Sex(M)              | Sex(F)             | Sex(M)             |\n",
      "+-----------------+---------------------+---------------------+---------------------+---------------------+--------------------+--------------------+\n",
      "| Education(high) | 0.6187683284457478  | 0.69593147751606    | 0.7425149700598802  | 0.8122448979591838  | 0.1793103448275862 | 0.764179104477612  |\n",
      "+-----------------+---------------------+---------------------+---------------------+---------------------+--------------------+--------------------+\n",
      "| Education(uni)  | 0.38123167155425225 | 0.30406852248394006 | 0.25748502994011974 | 0.18775510204081636 | 0.8206896551724138 | 0.2358208955223881 |\n",
      "+-----------------+---------------------+---------------------+---------------------+---------------------+--------------------+--------------------+\n",
      "+--------+----------+\n",
      "| Sex(F) | 0.540789 |\n",
      "+--------+----------+\n",
      "| Sex(M) | 0.459211 |\n",
      "+--------+----------+\n",
      "+------------------+---------------------+---------------------+\n",
      "| Education        | Education(high)     | Education(uni)      |\n",
      "+------------------+---------------------+---------------------+\n",
      "| Occupation(emp)  | 0.9228915662650602  | 0.8985507246376812  |\n",
      "+------------------+---------------------+---------------------+\n",
      "| Occupation(self) | 0.07710843373493977 | 0.10144927536231885 |\n",
      "+------------------+---------------------+---------------------+\n",
      "+-----------------+---------------------+--------------------+\n",
      "| Education       | Education(high)     | Education(uni)     |\n",
      "+-----------------+---------------------+--------------------+\n",
      "| Resident(big)   | 0.691566265060241   | 0.8753623188405797 |\n",
      "+-----------------+---------------------+--------------------+\n",
      "| Resident(small) | 0.30843373493975906 | 0.1246376811594203 |\n",
      "+-----------------+---------------------+--------------------+\n",
      "+------------------+---------------------+---------------------+---------------------+---------------------+\n",
      "| Occupation       | Occupation(emp)     | Occupation(emp)     | Occupation(self)    | Occupation(self)    |\n",
      "+------------------+---------------------+---------------------+---------------------+---------------------+\n",
      "| Resident         | Resident(big)       | Resident(small)     | Resident(big)       | Resident(small)     |\n",
      "+------------------+---------------------+---------------------+---------------------+---------------------+\n",
      "| Transport(car)   | 0.6938898971566848  | 0.5093896713615023  | 0.45614035087719296 | 0.39080459770114945 |\n",
      "+------------------+---------------------+---------------------+---------------------+---------------------+\n",
      "| Transport(other) | 0.14761040532365396 | 0.12206572769953053 | 0.27192982456140347 | 0.3218390804597701  |\n",
      "+------------------+---------------------+---------------------+---------------------+---------------------+\n",
      "| Transport(train) | 0.15849969751966123 | 0.3685446009389671  | 0.27192982456140347 | 0.2873563218390805  |\n",
      "+------------------+---------------------+---------------------+---------------------+---------------------+\n",
      "equivalent_sample_sizes/iss: 1000\n",
      "+------------+----------+\n",
      "| Age(adult) | 0.342972 |\n",
      "+------------+----------+\n",
      "| Age(old)   | 0.263454 |\n",
      "+------------+----------+\n",
      "| Age(young) | 0.393574 |\n",
      "+------------+----------+\n",
      "+-----------------+--------------------+---------------------+--------------------+--------------------+--------------------+--------------------+\n",
      "| Age             | Age(adult)         | Age(adult)          | Age(old)           | Age(old)           | Age(young)         | Age(young)         |\n",
      "+-----------------+--------------------+---------------------+--------------------+--------------------+--------------------+--------------------+\n",
      "| Sex             | Sex(F)             | Sex(M)              | Sex(F)             | Sex(M)             | Sex(F)             | Sex(M)             |\n",
      "+-----------------+--------------------+---------------------+--------------------+--------------------+--------------------+--------------------+\n",
      "| Education(high) | 0.5512010113780025 | 0.5997818974918212  | 0.5656401944894651 | 0.6100719424460432 | 0.3021276595744681 | 0.6127388535031847 |\n",
      "+-----------------+--------------------+---------------------+--------------------+--------------------+--------------------+--------------------+\n",
      "| Education(uni)  | 0.4487989886219975 | 0.40021810250817885 | 0.4343598055105348 | 0.3899280575539569 | 0.6978723404255319 | 0.3872611464968153 |\n",
      "+-----------------+--------------------+---------------------+--------------------+--------------------+--------------------+--------------------+\n",
      "+--------+----------+\n",
      "| Sex(F) | 0.518675 |\n",
      "+--------+----------+\n",
      "| Sex(M) | 0.481325 |\n",
      "+--------+----------+\n",
      "+------------------+--------------------+--------------------+\n",
      "| Education        | Education(high)    | Education(uni)     |\n",
      "+------------------+--------------------+--------------------+\n",
      "| Occupation(emp)  | 0.7028901734104046 | 0.6729559748427673 |\n",
      "+------------------+--------------------+--------------------+\n",
      "| Occupation(self) | 0.2971098265895954 | 0.3270440251572327 |\n",
      "+------------------+--------------------+--------------------+\n",
      "+-----------------+---------------------+--------------------+\n",
      "| Education       | Education(high)     | Education(uni)     |\n",
      "+-----------------+---------------------+--------------------+\n",
      "| Resident(big)   | 0.5919075144508671  | 0.6628930817610063 |\n",
      "+-----------------+---------------------+--------------------+\n",
      "| Resident(small) | 0.40809248554913297 | 0.3371069182389937 |\n",
      "+-----------------+---------------------+--------------------+\n",
      "+------------------+---------------------+--------------------+---------------------+---------------------+\n",
      "| Occupation       | Occupation(emp)     | Occupation(emp)    | Occupation(self)    | Occupation(self)    |\n",
      "+------------------+---------------------+--------------------+---------------------+---------------------+\n",
      "| Resident         | Resident(big)       | Resident(small)    | Resident(big)       | Resident(small)     |\n",
      "+------------------+---------------------+--------------------+---------------------+---------------------+\n",
      "| Transport(car)   | 0.5893470790378007  | 0.4014532243415077 | 0.35107731305449935 | 0.33989501312335957 |\n",
      "+------------------+---------------------+--------------------+---------------------+---------------------+\n",
      "| Transport(other) | 0.20146048109965634 | 0.2515894641235241 | 0.3244613434727503  | 0.3320209973753281  |\n",
      "+------------------+---------------------+--------------------+---------------------+---------------------+\n",
      "| Transport(train) | 0.20919243986254293 | 0.3469573115349682 | 0.3244613434727503  | 0.3280839895013123  |\n",
      "+------------------+---------------------+--------------------+---------------------+---------------------+\n"
     ]
    }
   ],
   "source": [
    "equivalent_sample_sizes = [1,10, 20, 100, 1000]\n",
    "for sz in equivalent_sample_sizes:\n",
    "    model =  create_and_fit_model(data, BayesianEstimator, sz)\n",
    "    nodes = ['Age', 'Education', 'Sex', 'Occupation', 'Resident', 'Transport']\n",
    "    print('equivalent_sample_sizes/iss:', sz)\n",
    "    for node in nodes:\n",
    "        \n",
    "        print(model.get_cpds(node))"
   ]
  },
  {
   "cell_type": "markdown",
   "metadata": {},
   "source": [
    "As the equivalent sample size increase, the probabilities of nodes which are children of other nodes move more towards 0.5 and away from the extremes of 0 and 1. There is no change for probabilities of nodes that are not children(Age, Sex).\n",
    "\n",
    "For Age and Sex, since they are not conditioned on any other nodes, their probabilities can be derived from the data directly and hence not affected by changing the equivalent sample size parameter. For the other nodes which are conditioned on other nodes, the equivalent sample size parameter adds extra 'imaginary' observed instances e.g. for `P(E | A='young', S='F')`, you would count how many E='uni' instances when A='young', S='F', and  E='high' instances when A='young', S='F'. The equivalent sample size adds extra counts to both of E='uni' instances when A='young', S='F', and  E='high' instances when A='young', S='F', which means you are less likely to get `P(E='uni' | A='young', S='F') = 0` or `P(E='uni' | A='young', S='F') = 1` due to the extra samples. We can see this effect from the above tables where as equivalent sample size increases, the highest probabilities for R/T/E/O decreases and the lowest probabilities increases"
   ]
  },
  {
   "cell_type": "markdown",
   "metadata": {},
   "source": [
    "4a)"
   ]
  },
  {
   "cell_type": "code",
   "execution_count": 14,
   "metadata": {},
   "outputs": [
    {
     "data": {
      "image/png": "[encoded data removed]",
      "text/plain": [
       "<Figure size 432x288 with 1 Axes>"
      ]
     },
     "metadata": {},
     "output_type": "display_data"
    }
   ],
   "source": [
    "transport_model2 = transport_model.copy()\n",
    "transport_model2.remove_edge('Education', 'Occupation')\n",
    "pos2 = nx.nx_pydot.graphviz_layout(transport_model2, prog='dot')\n",
    "nx.draw(transport_model2, pos2, with_labels=True)\n"
   ]
  },
  {
   "cell_type": "markdown",
   "metadata": {},
   "source": [
    "4b)"
   ]
  },
  {
   "cell_type": "code",
   "execution_count": 15,
   "metadata": {
    "scrolled": false
   },
   "outputs": [
    {
     "name": "stdout",
     "output_type": "stream",
     "text": [
      "Age\n",
      "original\n",
      "+------------+----------+\n",
      "| Age(adult) | 0.357393 |\n",
      "+------------+----------+\n",
      "| Age(old)   | 0.158897 |\n",
      "+------------+----------+\n",
      "| Age(young) | 0.483709 |\n",
      "+------------+----------+\n",
      "updated \n",
      "+------------+----------+\n",
      "| Age(adult) | 0.357393 |\n",
      "+------------+----------+\n",
      "| Age(old)   | 0.158897 |\n",
      "+------------+----------+\n",
      "| Age(young) | 0.483709 |\n",
      "+------------+----------+\n",
      "Education\n",
      "original\n",
      "+-----------------+---------------------+--------------------+---------------------+---------------------+---------------------+---------------------+\n",
      "| Age             | Age(adult)          | Age(adult)         | Age(old)            | Age(old)            | Age(young)          | Age(young)          |\n",
      "+-----------------+---------------------+--------------------+---------------------+---------------------+---------------------+---------------------+\n",
      "| Sex             | Sex(F)              | Sex(M)             | Sex(F)              | Sex(M)              | Sex(F)              | Sex(M)              |\n",
      "+-----------------+---------------------+--------------------+---------------------+---------------------+---------------------+---------------------+\n",
      "| Education(high) | 0.6379897785349233  | 0.7181168057210965 | 0.8389121338912134  | 0.8873417721518988  | 0.15682656826568267 | 0.8078260869565217  |\n",
      "+-----------------+---------------------+--------------------+---------------------+---------------------+---------------------+---------------------+\n",
      "| Education(uni)  | 0.36201022146507666 | 0.2818831942789034 | 0.16108786610878664 | 0.11265822784810128 | 0.8431734317343174  | 0.19217391304347825 |\n",
      "+-----------------+---------------------+--------------------+---------------------+---------------------+---------------------+---------------------+\n",
      "updated \n",
      "+-----------------+---------------------+--------------------+---------------------+---------------------+---------------------+---------------------+\n",
      "| Age             | Age(adult)          | Age(adult)         | Age(old)            | Age(old)            | Age(young)          | Age(young)          |\n",
      "+-----------------+---------------------+--------------------+---------------------+---------------------+---------------------+---------------------+\n",
      "| Sex             | Sex(F)              | Sex(M)             | Sex(F)              | Sex(M)              | Sex(F)              | Sex(M)              |\n",
      "+-----------------+---------------------+--------------------+---------------------+---------------------+---------------------+---------------------+\n",
      "| Education(high) | 0.6379897785349233  | 0.7181168057210965 | 0.8389121338912134  | 0.8873417721518988  | 0.15682656826568267 | 0.8078260869565217  |\n",
      "+-----------------+---------------------+--------------------+---------------------+---------------------+---------------------+---------------------+\n",
      "| Education(uni)  | 0.36201022146507666 | 0.2818831942789034 | 0.16108786610878664 | 0.11265822784810128 | 0.8431734317343174  | 0.19217391304347825 |\n",
      "+-----------------+---------------------+--------------------+---------------------+---------------------+---------------------+---------------------+\n",
      "Sex\n",
      "original\n",
      "+--------+----------+\n",
      "| Sex(F) | 0.546617 |\n",
      "+--------+----------+\n",
      "| Sex(M) | 0.453383 |\n",
      "+--------+----------+\n",
      "updated \n",
      "+--------+----------+\n",
      "| Sex(F) | 0.546617 |\n",
      "+--------+----------+\n",
      "| Sex(M) | 0.453383 |\n",
      "+--------+----------+\n",
      "Occupation\n",
      "original\n",
      "+------------------+----------------------+----------------------+\n",
      "| Education        | Education(high)      | Education(uni)       |\n",
      "+------------------+----------------------+----------------------+\n",
      "| Occupation(emp)  | 0.9775510204081632   | 0.9621848739495799   |\n",
      "+------------------+----------------------+----------------------+\n",
      "| Occupation(self) | 0.022448979591836733 | 0.037815126050420166 |\n",
      "+------------------+----------------------+----------------------+\n",
      "updated \n",
      "+------------------+-----------+\n",
      "| Occupation(emp)  | 0.970677  |\n",
      "+------------------+-----------+\n",
      "| Occupation(self) | 0.0293233 |\n",
      "+------------------+-----------+\n",
      "Resident\n",
      "original\n",
      "+-----------------+--------------------+---------------------+\n",
      "| Education       | Education(high)    | Education(uni)      |\n",
      "+-----------------+--------------------+---------------------+\n",
      "| Resident(big)   | 0.7163265306122449 | 0.9352941176470588  |\n",
      "+-----------------+--------------------+---------------------+\n",
      "| Resident(small) | 0.2836734693877551 | 0.06470588235294118 |\n",
      "+-----------------+--------------------+---------------------+\n",
      "updated \n",
      "+-----------------+--------------------+---------------------+\n",
      "| Education       | Education(high)    | Education(uni)      |\n",
      "+-----------------+--------------------+---------------------+\n",
      "| Resident(big)   | 0.7163265306122449 | 0.9352941176470588  |\n",
      "+-----------------+--------------------+---------------------+\n",
      "| Resident(small) | 0.2836734693877551 | 0.06470588235294118 |\n",
      "+-----------------+--------------------+---------------------+\n",
      "Transport\n",
      "original\n",
      "+------------------+---------------------+---------------------+---------------------+---------------------+\n",
      "| Occupation       | Occupation(emp)     | Occupation(emp)     | Occupation(self)    | Occupation(self)    |\n",
      "+------------------+---------------------+---------------------+---------------------+---------------------+\n",
      "| Resident         | Resident(big)       | Resident(small)     | Resident(big)       | Resident(small)     |\n",
      "+------------------+---------------------+---------------------+---------------------+---------------------+\n",
      "| Transport(car)   | 0.7101311838153944  | 0.5447498238195913  | 0.6608187134502924  | 0.6507936507936508  |\n",
      "+------------------+---------------------+---------------------+---------------------+---------------------+\n",
      "| Transport(other) | 0.13924450766556032 | 0.07963354474982381 | 0.16959064327485382 | 0.2698412698412699  |\n",
      "+------------------+---------------------+---------------------+---------------------+---------------------+\n",
      "| Transport(train) | 0.15062430851904537 | 0.3756166314305849  | 0.16959064327485382 | 0.07936507936507937 |\n",
      "+------------------+---------------------+---------------------+---------------------+---------------------+\n",
      "updated \n",
      "+------------------+---------------------+---------------------+---------------------+---------------------+\n",
      "| Occupation       | Occupation(emp)     | Occupation(emp)     | Occupation(self)    | Occupation(self)    |\n",
      "+------------------+---------------------+---------------------+---------------------+---------------------+\n",
      "| Resident         | Resident(big)       | Resident(small)     | Resident(big)       | Resident(small)     |\n",
      "+------------------+---------------------+---------------------+---------------------+---------------------+\n",
      "| Transport(car)   | 0.7101311838153944  | 0.5447498238195913  | 0.6608187134502924  | 0.6507936507936508  |\n",
      "+------------------+---------------------+---------------------+---------------------+---------------------+\n",
      "| Transport(other) | 0.13924450766556032 | 0.07963354474982381 | 0.16959064327485382 | 0.2698412698412699  |\n",
      "+------------------+---------------------+---------------------+---------------------+---------------------+\n",
      "| Transport(train) | 0.15062430851904537 | 0.3756166314305849  | 0.16959064327485382 | 0.07936507936507937 |\n",
      "+------------------+---------------------+---------------------+---------------------+---------------------+\n"
     ]
    }
   ],
   "source": [
    "equivalent_sample_sizes = 1\n",
    "transport_model2.fit(data, estimator=BayesianEstimator)\n",
    "transport_model.fit(data, estimator=BayesianEstimator)\n",
    "nodes = ['Age', 'Education', 'Sex', 'Occupation', 'Resident', 'Transport']\n",
    "\n",
    "for node in nodes:\n",
    "    print(node)\n",
    "    print('original')\n",
    "    print(transport_model.get_cpds(node))\n",
    "    print('updated ')\n",
    "    print(transport_model2.get_cpds(node))"
   ]
  },
  {
   "cell_type": "markdown",
   "metadata": {},
   "source": [
    "The local distributions are all unchanged except for that of the 'Occupation' node\n",
    "\n",
    "Original factorisation is:\n",
    "P(A, S, E, O, R, T) = P(A)P(S)P(E|A, S)P(R|E)P(O|E)P(T| R, O)\n",
    "\n",
    "New factorisation is:\n",
    "P(A, S, E, O, R, T) = P(A)P(S)P(E|A, S)P(R|E)P(O)P(T| R, O)\n",
    "\n",
    "So the 'O' node had it's distribution changed from one that is dependent on E to one that isn't. As expected, the distributions on the other nodes hasn't changed as we can see that the factorisation hasn't changed."
   ]
  },
  {
   "cell_type": "markdown",
   "metadata": {},
   "source": [
    "5a)"
   ]
  },
  {
   "cell_type": "code",
   "execution_count": 16,
   "metadata": {},
   "outputs": [],
   "source": [
    "D1 = transport_model.copy()\n",
    "p1 = ConstraintBasedEstimator.model_to_pdag(D1)"
   ]
  },
  {
   "cell_type": "code",
   "execution_count": 17,
   "metadata": {},
   "outputs": [
    {
     "data": {
      "image/png": "[encoded data removed]",
      "text/plain": [
       "<Figure size 432x288 with 1 Axes>"
      ]
     },
     "metadata": {},
     "output_type": "display_data"
    }
   ],
   "source": [
    "pos3 = nx.nx_pydot.graphviz_layout(p1, prog='dot')\n",
    "nx.draw(p1,pos3, with_labels=True)\n",
    "plt.show()"
   ]
  },
  {
   "cell_type": "markdown",
   "metadata": {},
   "source": [
    "P1 and D1 have the same node/edge combinations. This is because P1 represents the set of equivalent dags of D1, and hence P1 and D1 would have the same skeleton (undirected graph). Any vstructs in D1 should also be preserved in P1 (otherwise it is no longer equivalent as the conditional dependence will be the same)\n",
    "\n",
    "D1 is more or less all vstructs so there is no difference between D1 and P1 (or at least not in principal, in pgmpy modelling, there is an extra edge between R and O which is rather unexpected and shouldn't be correct...)"
   ]
  },
  {
   "cell_type": "markdown",
   "metadata": {},
   "source": [
    "5b)"
   ]
  },
  {
   "cell_type": "code",
   "execution_count": 18,
   "metadata": {},
   "outputs": [
    {
     "data": {
      "image/png": "[encoded data removed]",
      "text/plain": [
       "<Figure size 432x288 with 1 Axes>"
      ]
     },
     "metadata": {},
     "output_type": "display_data"
    }
   ],
   "source": [
    "\n",
    "D2 = D1.copy()\n",
    "D2.add_edge('Occupation', 'Resident')\n",
    "nx.draw(D2, nx.nx_pydot.graphviz_layout(D2, prog='dot'), with_labels=True)\n"
   ]
  },
  {
   "cell_type": "markdown",
   "metadata": {},
   "source": [
    "5c)"
   ]
  },
  {
   "cell_type": "code",
   "execution_count": 19,
   "metadata": {},
   "outputs": [
    {
     "data": {
      "image/png": "[encoded data removed]",
      "text/plain": [
       "<Figure size 432x288 with 1 Axes>"
      ]
     },
     "metadata": {},
     "output_type": "display_data"
    }
   ],
   "source": [
    "P2 = ConstraintBasedEstimator.model_to_pdag(D2)\n",
    "nx.draw(P2, nx.nx_pydot.graphviz_layout(P2, prog='dot'), with_labels=True)\n"
   ]
  },
  {
   "cell_type": "markdown",
   "metadata": {},
   "source": [
    "5d)"
   ]
  },
  {
   "cell_type": "code",
   "execution_count": 32,
   "metadata": {},
   "outputs": [
    {
     "data": {
      "image/png": "[encoded data removed]",
      "text/plain": [
       "<Figure size 432x288 with 1 Axes>"
      ]
     },
     "metadata": {},
     "output_type": "display_data"
    }
   ],
   "source": [
    "\n",
    "D3= D1.copy()\n",
    "D3.add_edge('Resident','Occupation')\n",
    "nx.draw(D3, nx.nx_pydot.graphviz_layout(D3, prog='dot'), with_labels=True)"
   ]
  },
  {
   "cell_type": "code",
   "execution_count": 21,
   "metadata": {},
   "outputs": [
    {
     "data": {
      "image/png": "[encoded data removed]",
      "text/plain": [
       "<Figure size 432x288 with 1 Axes>"
      ]
     },
     "metadata": {},
     "output_type": "display_data"
    }
   ],
   "source": [
    "P3 = ConstraintBasedEstimator.model_to_pdag(D3)\n",
    "nx.draw(P3, nx.nx_pydot.graphviz_layout(P3, prog='dot'), with_labels=True)"
   ]
  },
  {
   "cell_type": "markdown",
   "metadata": {},
   "source": [
    "5e) The loglikelihood score doesn't seem to be availabe in pgmpy. Here I used another method-- BicScore instead (Bayesian information criterion, which is a modified version of the likelihood score but with a penalty added to stop overfitting) . D2 and D3 share the same score-- this is expected because the score is dependent on the underlying PDags and D2 and D3 have the same dags"
   ]
  },
  {
   "cell_type": "code",
   "execution_count": 22,
   "metadata": {},
   "outputs": [
    {
     "data": {
      "text/plain": [
       "(-2420.007975311849, -2425.3464677738216, -2425.3464677738216)"
      ]
     },
     "execution_count": 22,
     "metadata": {},
     "output_type": "execute_result"
    }
   ],
   "source": [
    "BicScore(data).score(D1), BicScore(data).score(D2),BicScore(data).score(D3)"
   ]
  },
  {
   "cell_type": "code",
   "execution_count": null,
   "metadata": {},
   "outputs": [],
   "source": []
  },
  {
   "cell_type": "markdown",
   "metadata": {},
   "source": [
    "6a)"
   ]
  },
  {
   "cell_type": "code",
   "execution_count": null,
   "metadata": {},
   "outputs": [],
   "source": []
  },
  {
   "cell_type": "code",
   "execution_count": 23,
   "metadata": {},
   "outputs": [],
   "source": [
    "def pyro_model():\n",
    "    A_alias = ['young','adult','old']\n",
    "    S_alias = ['M','F']\n",
    "    E_alias = ['high','uni']\n",
    "    O_alias = ['emp','self']\n",
    "    R_alias = ['small','big']\n",
    "    T_alias = ['car','train','other']\n",
    "\n",
    "    age_probs = torch.tensor([0.48, 0.36, 0.16])\n",
    "    sex_probs = torch.tensor([0.45, 0.55 ])\n",
    "\n",
    "    occupation_probs = torch.tensor([\n",
    "            [0.98, 0.97],\n",
    "            [0.02, 0.03]\n",
    "    ]) \n",
    "    education_probs = torch.tensor([\n",
    "            [[0.64, 0.36], [0.84, 0.16], [0.16, 0.84]],\n",
    "            [[0.72, 0.28], [0.89, 0.11], [0.81, 0.19]]])\n",
    "\n",
    "    resident_probs = torch.tensor([\n",
    "            [0.72, 0.94],\n",
    "            [0.28, 0.06]])\n",
    "    transport_probs = torch.tensor([[[0.54,0.38,0.07], [0.71, 0.15, 0.14]],\n",
    "                     [[0.73,0.02,0.25], [0.69,0.18,0.18]]])\n",
    "\n",
    "    age = pyro.sample(\"Age\", pyro.distributions.Categorical(probs=age_probs)) #young, adult, old\n",
    "    sex = pyro.sample(\"Sex\",  pyro.distributions.Categorical(probs=sex_probs)) # male, female\n",
    "    \n",
    "   \n",
    "    education = pyro.sample(\"Education\", pyro.distributions.Categorical(probs=education_probs[sex][age]))\n",
    "    \n",
    "\n",
    "    occupation  = pyro.sample(\"Occupation\", pyro.distributions.Categorical(occupation_probs[education]))\n",
    "     # big ,small\n",
    "    resident  = pyro.sample(\"Resident\", pyro.distributions.Categorical(resident_probs[education]))\n",
    "    \n",
    "    \n",
    "    transport = pyro.sample(\"Transport\", pyro.distributions.Categorical(transport_probs[occupation][resident]))\n",
    "    \n",
    "    return{'age': age,\n",
    "           'sex': sex,\n",
    "           'education': education,\n",
    "           'occupation': occupation,\n",
    "           'resident': resident,\n",
    "           'transport': transport\n",
    "          }"
   ]
  },
  {
   "cell_type": "code",
   "execution_count": 24,
   "metadata": {},
   "outputs": [
    {
     "data": {
      "text/plain": [
       "{'age': tensor(0),\n",
       " 'sex': tensor(0),\n",
       " 'education': tensor(1),\n",
       " 'occupation': tensor(0),\n",
       " 'resident': tensor(0),\n",
       " 'transport': tensor(0)}"
      ]
     },
     "execution_count": 24,
     "metadata": {},
     "output_type": "execute_result"
    }
   ],
   "source": [
    "pyro_model()"
   ]
  },
  {
   "cell_type": "markdown",
   "metadata": {},
   "source": [
    "6b)\n",
    "You observe a person with a university degree. What is your prediction of this person’s means of travel?\n",
    "\n",
    "so we know eductions=\"uni\""
   ]
  },
  {
   "cell_type": "code",
   "execution_count": 25,
   "metadata": {},
   "outputs": [],
   "source": [
    "conditioned_model_uni = pyro.condition(pyro_model, data={\"Education\": torch.tensor(1), })"
   ]
  },
  {
   "cell_type": "code",
   "execution_count": 26,
   "metadata": {
    "scrolled": false
   },
   "outputs": [
    {
     "data": {
      "text/plain": [
       "Text(0.5, 1.0, 'P(T | E=\"uni\") - Importance Sampling')"
      ]
     },
     "execution_count": 26,
     "metadata": {},
     "output_type": "execute_result"
    },
    {
     "data": {
      "image/png": "[encoded data removed]",
      "text/plain": [
       "<Figure size 432x288 with 1 Axes>"
      ]
     },
     "metadata": {
      "needs_background": "light"
     },
     "output_type": "display_data"
    }
   ],
   "source": [
    "t_posterior = pyro.infer.Importance(conditioned_model_uni, num_samples=5000).run()\n",
    "t_marginal = pyro.infer.EmpiricalMarginal(t_posterior,\"Transport\")\n",
    "t_samples = [t_marginal().item() for _ in range(5000)]\n",
    "t_unique, t_counts = np.unique(t_samples, return_counts=True)\n",
    "\n",
    "plt.bar(t_unique, t_counts, align='center', alpha=0.5)\n",
    "plt.xticks(t_unique, ['car','train','other'])\n",
    "plt.ylabel('count')\n",
    "plt.xlabel('Transport')\n",
    "plt.title('P(T | E=\"uni\") - Importance Sampling')"
   ]
  },
  {
   "cell_type": "markdown",
   "metadata": {},
   "source": [
    "6c) You observe a self-employed person who lives in a big city. What is your prediction of this person’s\n",
    "age? Provide either a MAP estimate or a histogram of the marginal on the variable “A”."
   ]
  },
  {
   "cell_type": "code",
   "execution_count": 27,
   "metadata": {},
   "outputs": [],
   "source": [
    "conditioned_model_emp_resi = pyro.condition(pyro_model, \n",
    "    data={\"Resident\": torch.tensor(1), \"Occupation\": torch.tensor(0) })"
   ]
  },
  {
   "cell_type": "code",
   "execution_count": 28,
   "metadata": {},
   "outputs": [
    {
     "data": {
      "text/plain": [
       "Text(0.5, 1.0, 'P(A | R=\"big\", E=\"self\") - Importance Sampling')"
      ]
     },
     "execution_count": 28,
     "metadata": {},
     "output_type": "execute_result"
    },
    {
     "data": {
      "image/png": "[encoded data removed]",
      "text/plain": [
       "<Figure size 432x288 with 1 Axes>"
      ]
     },
     "metadata": {
      "needs_background": "light"
     },
     "output_type": "display_data"
    }
   ],
   "source": [
    "a_posterior = pyro.infer.Importance(conditioned_model_emp_resi, num_samples=5000).run()\n",
    "a_marginal = pyro.infer.EmpiricalMarginal(a_posterior,\"Age\")\n",
    "a_samples = [t_marginal().item() for _ in range(5000)]\n",
    "a_unique, a_counts = np.unique(a_samples, return_counts=True)\n",
    "\n",
    "plt.bar(a_unique, a_counts, align='center', alpha=0.5)\n",
    "plt.xticks(a_unique, ['young','adult','old'])\n",
    "plt.ylabel('count')\n",
    "plt.xlabel('age')\n",
    "plt.title('P(A | R=\"big\", E=\"self\") - Importance Sampling')"
   ]
  },
  {
   "cell_type": "code",
   "execution_count": 29,
   "metadata": {},
   "outputs": [
    {
     "data": {
      "text/plain": [
       "OutEdgeView([('Age', 'Education'), ('Age', 'Sex'), ('Resident', 'Transport'), ('Education', 'Sex'), ('Sex', 'Age'), ('Sex', 'Education')])"
      ]
     },
     "execution_count": 29,
     "metadata": {},
     "output_type": "execute_result"
    }
   ],
   "source": [
    "c = ConstraintBasedEstimator(data)\n",
    "pdag = c.skeleton_to_pdag(*c.estimate_skeleton())\n",
    "pdag.edges() # edges: A->C, B->C, A--D (not directed)"
   ]
  },
  {
   "cell_type": "code",
   "execution_count": null,
   "metadata": {},
   "outputs": [],
   "source": []
  }
 ],
 "metadata": {
  "kernelspec": {
   "display_name": "immo-ml",
   "language": "python",
   "name": "immo-ml"
  },
  "language_info": {
   "codemirror_mode": {
    "name": "ipython",
    "version": 3
   },
   "file_extension": ".py",
   "mimetype": "text/x-python",
   "name": "python",
   "nbconvert_exporter": "python",
   "pygments_lexer": "ipython3",
   "version": "3.7.6"
  }
 },
 "nbformat": 4,
 "nbformat_minor": 2
}
