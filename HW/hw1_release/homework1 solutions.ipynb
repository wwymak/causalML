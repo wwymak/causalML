{
 "cells": [
  {
   "cell_type": "code",
   "execution_count": 7,
   "metadata": {},
   "outputs": [],
   "source": [
    "\n",
    "from pgmpy.models import BayesianModel\n",
    "from pgmpy.estimators import BayesianEstimator\n",
    "import networkx as nx\n",
    "import matplotlib.pyplot as plt\n",
    "import graphviz\n",
    "import pandas as pd\n",
    "%matplotlib inline"
   ]
  },
  {
   "cell_type": "markdown",
   "metadata": {},
   "source": [
    "#### Building a DAG (based on the transport model)\n",
    "\n",
    "![](survey.png)"
   ]
  },
  {
   "cell_type": "markdown",
   "metadata": {},
   "source": [
    "1a) factorization of the joint distribution:\n",
    "    \n",
    "P(A, S, E, O, R, T) = P(A)P(S)P(E|A, S)P(R|E)P(O|E)P(T| R, O)"
   ]
  },
  {
   "cell_type": "markdown",
   "metadata": {},
   "source": [
    "1b, c)"
   ]
  },
  {
   "cell_type": "code",
   "execution_count": 2,
   "metadata": {},
   "outputs": [],
   "source": [
    "transport_model = BayesianModel([('Age', 'Education'), \n",
    "                                 ('Sex', 'Education'),\n",
    "                                 ('Education', 'Occupation'),\n",
    "                                 ('Education', 'Resident'),\n",
    "                                 ('Occupation', 'Transport'),\n",
    "                                 ('Resident', 'Transport')\n",
    "                                ])"
   ]
  },
  {
   "cell_type": "markdown",
   "metadata": {},
   "source": [
    "1d)"
   ]
  },
  {
   "cell_type": "code",
   "execution_count": 3,
   "metadata": {},
   "outputs": [
    {
     "data": {
      "text/plain": [
       "<pgmpy.models.BayesianModel.BayesianModel at 0x7fa5e3f288d0>"
      ]
     },
     "execution_count": 3,
     "metadata": {},
     "output_type": "execute_result"
    }
   ],
   "source": [
    "transport_model"
   ]
  },
  {
   "cell_type": "code",
   "execution_count": 31,
   "metadata": {},
   "outputs": [
    {
     "data": {
      "image/png": "[encoded data removed]",
      "text/plain": [
       "<Figure size 432x288 with 1 Axes>"
      ]
     },
     "metadata": {},
     "output_type": "display_data"
    }
   ],
   "source": [
    "nx.draw_spring(transport_model, with_labels=True)\n",
    "plt.show()"
   ]
  },
  {
   "cell_type": "markdown",
   "metadata": {},
   "source": [
    "2a)"
   ]
  },
  {
   "cell_type": "code",
   "execution_count": 10,
   "metadata": {},
   "outputs": [
    {
     "data": {
      "text/plain": [
       "NodeView(('Age', 'Education', 'Sex', 'Occupation', 'Resident', 'Transport'))"
      ]
     },
     "execution_count": 10,
     "metadata": {},
     "output_type": "execute_result"
    }
   ],
   "source": [
    "transport_model.nodes"
   ]
  },
  {
   "cell_type": "code",
   "execution_count": 11,
   "metadata": {},
   "outputs": [
    {
     "data": {
      "text/plain": [
       "OutEdgeView([('Age', 'Education'), ('Education', 'Occupation'), ('Education', 'Resident'), ('Sex', 'Education'), ('Occupation', 'Transport'), ('Resident', 'Transport')])"
      ]
     },
     "execution_count": 11,
     "metadata": {},
     "output_type": "execute_result"
    }
   ],
   "source": [
    "transport_model.edges"
   ]
  },
  {
   "cell_type": "markdown",
   "metadata": {},
   "source": [
    "2b)"
   ]
  },
  {
   "cell_type": "code",
   "execution_count": 8,
   "metadata": {},
   "outputs": [
    {
     "name": "stdout",
     "output_type": "stream",
     "text": [
      "node: Age, parents: [], children: ['Education']\n",
      "node: Education, parents: ['Age', 'Sex'], children: ['Occupation', 'Resident']\n",
      "node: Sex, parents: [], children: ['Education']\n",
      "node: Occupation, parents: ['Education'], children: ['Transport']\n",
      "node: Resident, parents: ['Education'], children: ['Transport']\n",
      "node: Transport, parents: ['Occupation', 'Resident'], children: []\n"
     ]
    }
   ],
   "source": [
    "for node in transport_model.nodes:\n",
    "    print(f\"node: {node}, parents: {transport_model.get_parents(node)}, children: {transport_model.get_children(node)}\")"
   ]
  },
  {
   "cell_type": "markdown",
   "metadata": {},
   "source": [
    "2c)"
   ]
  },
  {
   "cell_type": "code",
   "execution_count": 9,
   "metadata": {},
   "outputs": [
    {
     "data": {
      "text/plain": [
       "['Sex', 'Education']"
      ]
     },
     "execution_count": 9,
     "metadata": {},
     "output_type": "execute_result"
    }
   ],
   "source": [
    "#Markov blanket of 'A'\n",
    "transport_model.get_markov_blanket('Age')"
   ]
  },
  {
   "cell_type": "code",
   "execution_count": 10,
   "metadata": {},
   "outputs": [
    {
     "data": {
      "text/plain": [
       "['Occupation', 'Sex', 'Age', 'Resident']"
      ]
     },
     "execution_count": 10,
     "metadata": {},
     "output_type": "execute_result"
    }
   ],
   "source": [
    "#Markov blanket of 'E'\n",
    "transport_model.get_markov_blanket('Education')"
   ]
  },
  {
   "cell_type": "code",
   "execution_count": 11,
   "metadata": {},
   "outputs": [
    {
     "name": "stdout",
     "output_type": "stream",
     "text": [
      "Transport has no markov blanket\n"
     ]
    }
   ],
   "source": [
    "#Markov blanket of 'T'\n",
    "try:\n",
    "    transport_model.get_markov_blanket('Transport')\n",
    "except KeyError as e:\n",
    "    print(f\"Transport has no markov blanket\")"
   ]
  },
  {
   "cell_type": "markdown",
   "metadata": {},
   "source": [
    "2d) For each node, it's markov blanket are the set of nodes which if you know the values of (so they are fixed and no longer probabilities), then that node is independent of all the other nodes in the network"
   ]
  },
  {
   "cell_type": "markdown",
   "metadata": {},
   "source": [
    "3a)"
   ]
  },
  {
   "cell_type": "code",
   "execution_count": 15,
   "metadata": {},
   "outputs": [],
   "source": [
    "data = pd.read_csv('survey2.txt', sep=\" \")\n",
    "data = data.rename(columns={\"A\": \"Age\", \"R\": \"Resident\", \"E\": \"Education\",  \"O\":\"Occupation\",\n",
    "                            \"S\": \"Sex\", \"T\" :\"Transport\"})\n",
    "\n"
   ]
  },
  {
   "cell_type": "code",
   "execution_count": 16,
   "metadata": {},
   "outputs": [],
   "source": [
    "def create_and_fit_model(data, estimator, equivalent_sample_size):\n",
    "    transport_model = BayesianModel([('Age', 'Education'), \n",
    "                                 ('Sex', 'Education'),\n",
    "                                 ('Education', 'Occupation'),\n",
    "                                 ('Education', 'Resident'),\n",
    "                                 ('Occupation', 'Transport'),\n",
    "                                 ('Resident', 'Transport')\n",
    "                                ])\n",
    "    transport_model.fit(data, estimator=estimator, equivalent_sample_size=equivalent_sample_size)\n",
    "    return transport_model"
   ]
  },
  {
   "cell_type": "markdown",
   "metadata": {},
   "source": [
    "3b)"
   ]
  },
  {
   "cell_type": "code",
   "execution_count": 17,
   "metadata": {
    "scrolled": false
   },
   "outputs": [
    {
     "name": "stdout",
     "output_type": "stream",
     "text": [
      "equivalent_sample_sizes/iss: 1\n",
      "+------------+----------+\n",
      "| Age(adult) | 0.357539 |\n",
      "+------------+----------+\n",
      "| Age(old)   | 0.157842 |\n",
      "+------------+----------+\n",
      "| Age(young) | 0.484619 |\n",
      "+------------+----------+\n",
      "+-----------------+---------------------+---------------------+--------------------+---------------------+---------------------+---------------------+\n",
      "| Age             | Age(adult)          | Age(adult)          | Age(old)           | Age(old)            | Age(young)          | Age(young)          |\n",
      "+-----------------+---------------------+---------------------+--------------------+---------------------+---------------------+---------------------+\n",
      "| Sex             | Sex(F)              | Sex(M)              | Sex(F)             | Sex(M)              | Sex(F)              | Sex(M)              |\n",
      "+-----------------+---------------------+---------------------+--------------------+---------------------+---------------------+---------------------+\n",
      "| Education(high) | 0.6389365351629502  | 0.7191616766467066  | 0.8446808510638297 | 0.8913043478260869  | 0.15581051073279054 | 0.8099824868651488  |\n",
      "+-----------------+---------------------+---------------------+--------------------+---------------------+---------------------+---------------------+\n",
      "| Education(uni)  | 0.36106346483704976 | 0.28083832335329345 | 0.1553191489361702 | 0.10869565217391303 | 0.8441894892672095  | 0.19001751313485116 |\n",
      "+-----------------+---------------------+---------------------+--------------------+---------------------+---------------------+---------------------+\n",
      "+--------+----------+\n",
      "| Sex(F) | 0.546899 |\n",
      "+--------+----------+\n",
      "| Sex(M) | 0.453101 |\n",
      "+--------+----------+\n",
      "+------------------+----------------------+---------------------+\n",
      "| Education        | Education(high)      | Education(uni)      |\n",
      "+------------------+----------------------+---------------------+\n",
      "| Occupation(emp)  | 0.9801641586867305   | 0.9653130287648054  |\n",
      "+------------------+----------------------+---------------------+\n",
      "| Occupation(self) | 0.019835841313269494 | 0.03468697123519458 |\n",
      "+------------------+----------------------+---------------------+\n",
      "+-----------------+---------------------+---------------------+\n",
      "| Education       | Education(high)     | Education(uni)      |\n",
      "+-----------------+---------------------+---------------------+\n",
      "| Resident(big)   | 0.7175102599179206  | 0.9382402707275804  |\n",
      "+-----------------+---------------------+---------------------+\n",
      "| Resident(small) | 0.28248974008207933 | 0.06175972927241963 |\n",
      "+-----------------+---------------------+---------------------+\n",
      "+------------------+---------------------+---------------------+---------------------+--------------------+\n",
      "| Occupation       | Occupation(emp)     | Occupation(emp)     | Occupation(self)    | Occupation(self)   |\n",
      "+------------------+---------------------+---------------------+---------------------+--------------------+\n",
      "| Resident         | Resident(big)       | Resident(small)     | Resident(big)       | Resident(small)    |\n",
      "+------------------+---------------------+---------------------+---------------------+--------------------+\n",
      "| Transport(car)   | 0.7108471892319873  | 0.5465529495380241  | 0.6855345911949685  | 0.7254901960784315 |\n",
      "+------------------+---------------------+---------------------+---------------------+--------------------+\n",
      "| Transport(other) | 0.1388756927949327  | 0.07746979388770434 | 0.15723270440251572 | 0.2549019607843137 |\n",
      "+------------------+---------------------+---------------------+---------------------+--------------------+\n",
      "| Transport(train) | 0.15027711797307997 | 0.3759772565742715  | 0.15723270440251572 | 0.0196078431372549 |\n",
      "+------------------+---------------------+---------------------+---------------------+--------------------+\n",
      "equivalent_sample_sizes/iss: 10\n",
      "+------------+----------+\n",
      "| Age(adult) | 0.357214 |\n",
      "+------------+----------+\n",
      "| Age(old)   | 0.160199 |\n",
      "+------------+----------+\n",
      "| Age(young) | 0.482587 |\n",
      "+------------+----------+\n",
      "+-----------------+---------------------+-------------------+---------------------+----------+---------------------+---------------------+\n",
      "| Age             | Age(adult)          | Age(adult)        | Age(old)            | Age(old) | Age(young)          | Age(young)          |\n",
      "+-----------------+---------------------+-------------------+---------------------+----------+---------------------+---------------------+\n",
      "| Sex             | Sex(F)              | Sex(M)            | Sex(F)              | Sex(M)   | Sex(F)              | Sex(M)              |\n",
      "+-----------------+---------------------+-------------------+---------------------+----------+---------------------+---------------------+\n",
      "| Education(high) | 0.6368243243243243  | 0.716824644549763 | 0.8319672131147541  | 0.8825   | 0.15808823529411764 | 0.8051724137931034  |\n",
      "+-----------------+---------------------+-------------------+---------------------+----------+---------------------+---------------------+\n",
      "| Education(uni)  | 0.36317567567567566 | 0.283175355450237 | 0.16803278688524587 | 0.1175   | 0.8419117647058824  | 0.19482758620689655 |\n",
      "+-----------------+---------------------+-------------------+---------------------+----------+---------------------+---------------------+\n",
      "+--------+----------+\n",
      "| Sex(F) | 0.546269 |\n",
      "+--------+----------+\n",
      "| Sex(M) | 0.453731 |\n",
      "+--------+----------+\n",
      "+------------------+----------------------+----------------------+\n",
      "| Education        | Education(high)      | Education(uni)       |\n",
      "+------------------+----------------------+----------------------+\n",
      "| Occupation(emp)  | 0.9743243243243244   | 0.9583333333333334   |\n",
      "+------------------+----------------------+----------------------+\n",
      "| Occupation(self) | 0.025675675675675677 | 0.041666666666666664 |\n",
      "+------------------+----------------------+----------------------+\n",
      "+-----------------+--------------------+---------------------+\n",
      "| Education       | Education(high)    | Education(uni)      |\n",
      "+-----------------+--------------------+---------------------+\n",
      "| Resident(big)   | 0.7148648648648649 | 0.9316666666666666  |\n",
      "+-----------------+--------------------+---------------------+\n",
      "| Resident(small) | 0.2851351351351351 | 0.06833333333333333 |\n",
      "+-----------------+--------------------+---------------------+\n",
      "+------------------+---------------------+---------------------+---------------------+---------------------+\n",
      "| Occupation       | Occupation(emp)     | Occupation(emp)     | Occupation(self)    | Occupation(self)    |\n",
      "+------------------+---------------------+---------------------+---------------------+---------------------+\n",
      "| Resident         | Resident(big)       | Resident(small)     | Resident(big)       | Resident(small)     |\n",
      "+------------------+---------------------+---------------------+---------------------+---------------------+\n",
      "| Transport(car)   | 0.7092399873856827  | 0.5425383542538353  | 0.6344086021505376  | 0.5897435897435898  |\n",
      "+------------------+---------------------+---------------------+---------------------+---------------------+\n",
      "| Transport(other) | 0.13970356354462313 | 0.08228730822873083 | 0.18279569892473116 | 0.28205128205128205 |\n",
      "+------------------+---------------------+---------------------+---------------------+---------------------+\n",
      "| Transport(train) | 0.1510564490696941  | 0.3751743375174338  | 0.18279569892473116 | 0.12820512820512822 |\n",
      "+------------------+---------------------+---------------------+---------------------+---------------------+\n",
      "equivalent_sample_sizes/iss: 20\n",
      "+------------+----------+\n",
      "| Age(adult) | 0.356863 |\n",
      "+------------+----------+\n",
      "| Age(old)   | 0.162745 |\n",
      "+------------+----------+\n",
      "| Age(young) | 0.480392 |\n",
      "+------------+----------+\n",
      "+-----------------+--------------------+--------------------+---------------------+---------------------+---------------------+---------------------+\n",
      "| Age             | Age(adult)         | Age(adult)         | Age(old)            | Age(old)            | Age(young)          | Age(young)          |\n",
      "+-----------------+--------------------+--------------------+---------------------+---------------------+---------------------+---------------------+\n",
      "| Sex             | Sex(F)             | Sex(M)             | Sex(F)              | Sex(M)              | Sex(F)              | Sex(M)              |\n",
      "+-----------------+--------------------+--------------------+---------------------+---------------------+---------------------+---------------------+\n",
      "| Education(high) | 0.6345514950166113 | 0.7142857142857143 | 0.8188976377952756  | 0.8731707317073171  | 0.16058394160583941 | 0.7999999999999999  |\n",
      "+-----------------+--------------------+--------------------+---------------------+---------------------+---------------------+---------------------+\n",
      "| Education(uni)  | 0.3654485049833887 | 0.2857142857142857 | 0.18110236220472445 | 0.12682926829268293 | 0.8394160583941606  | 0.19999999999999998 |\n",
      "+-----------------+--------------------+--------------------+---------------------+---------------------+---------------------+---------------------+\n",
      "+--------+----------+\n",
      "| Sex(F) | 0.545588 |\n",
      "+--------+----------+\n",
      "| Sex(M) | 0.454412 |\n",
      "+--------+----------+\n",
      "+------------------+-----------------+---------------------+\n",
      "| Education        | Education(high) | Education(uni)      |\n",
      "+------------------+-----------------+---------------------+\n",
      "| Occupation(emp)  | 0.968           | 0.9508196721311475  |\n",
      "+------------------+-----------------+---------------------+\n",
      "| Occupation(self) | 0.032           | 0.04918032786885246 |\n",
      "+------------------+-----------------+---------------------+\n",
      "+-----------------+-----------------+---------------------+\n",
      "| Education       | Education(high) | Education(uni)      |\n",
      "+-----------------+-----------------+---------------------+\n",
      "| Resident(big)   | 0.712           | 0.9245901639344263  |\n",
      "+-----------------+-----------------+---------------------+\n",
      "| Resident(small) | 0.288           | 0.07540983606557378 |\n",
      "+-----------------+-----------------+---------------------+\n",
      "+------------------+---------------------+---------------------+---------------------+---------------------+\n",
      "| Occupation       | Occupation(emp)     | Occupation(emp)     | Occupation(self)    | Occupation(self)    |\n",
      "+------------------+---------------------+---------------------+---------------------+---------------------+\n",
      "| Resident         | Resident(big)       | Resident(small)     | Resident(big)       | Resident(small)     |\n",
      "+------------------+---------------------+---------------------+---------------------+---------------------+\n",
      "| Transport(car)   | 0.7074701820464533  | 0.5382513661202186  | 0.5925925925925926  | 0.5185185185185186  |\n",
      "+------------------+---------------------+---------------------+---------------------+---------------------+\n",
      "| Transport(other) | 0.1406151914626491  | 0.08743169398907104 | 0.20370370370370372 | 0.29629629629629634 |\n",
      "+------------------+---------------------+---------------------+---------------------+---------------------+\n",
      "| Transport(train) | 0.15191462649089768 | 0.37431693989071035 | 0.20370370370370372 | 0.1851851851851852  |\n",
      "+------------------+---------------------+---------------------+---------------------+---------------------+\n",
      "equivalent_sample_sizes/iss: 100\n",
      "+------------+----------+\n",
      "| Age(adult) | 0.354386 |\n",
      "+------------+----------+\n",
      "| Age(old)   | 0.180702 |\n",
      "+------------+----------+\n",
      "| Age(young) | 0.464912 |\n",
      "+------------+----------+\n",
      "+-----------------+---------------------+---------------------+---------------------+---------------------+--------------------+--------------------+\n",
      "| Age             | Age(adult)          | Age(adult)          | Age(old)            | Age(old)            | Age(young)         | Age(young)         |\n",
      "+-----------------+---------------------+---------------------+---------------------+---------------------+--------------------+--------------------+\n",
      "| Sex             | Sex(F)              | Sex(M)              | Sex(F)              | Sex(M)              | Sex(F)             | Sex(M)             |\n",
      "+-----------------+---------------------+---------------------+---------------------+---------------------+--------------------+--------------------+\n",
      "| Education(high) | 0.6187683284457478  | 0.69593147751606    | 0.7425149700598802  | 0.8122448979591838  | 0.1793103448275862 | 0.764179104477612  |\n",
      "+-----------------+---------------------+---------------------+---------------------+---------------------+--------------------+--------------------+\n",
      "| Education(uni)  | 0.38123167155425225 | 0.30406852248394006 | 0.25748502994011974 | 0.18775510204081636 | 0.8206896551724138 | 0.2358208955223881 |\n",
      "+-----------------+---------------------+---------------------+---------------------+---------------------+--------------------+--------------------+\n",
      "+--------+----------+\n",
      "| Sex(F) | 0.540789 |\n",
      "+--------+----------+\n",
      "| Sex(M) | 0.459211 |\n",
      "+--------+----------+\n",
      "+------------------+---------------------+---------------------+\n",
      "| Education        | Education(high)     | Education(uni)      |\n",
      "+------------------+---------------------+---------------------+\n",
      "| Occupation(emp)  | 0.9228915662650602  | 0.8985507246376812  |\n",
      "+------------------+---------------------+---------------------+\n",
      "| Occupation(self) | 0.07710843373493977 | 0.10144927536231885 |\n",
      "+------------------+---------------------+---------------------+\n",
      "+-----------------+---------------------+--------------------+\n",
      "| Education       | Education(high)     | Education(uni)     |\n",
      "+-----------------+---------------------+--------------------+\n",
      "| Resident(big)   | 0.691566265060241   | 0.8753623188405797 |\n",
      "+-----------------+---------------------+--------------------+\n",
      "| Resident(small) | 0.30843373493975906 | 0.1246376811594203 |\n",
      "+-----------------+---------------------+--------------------+\n",
      "+------------------+---------------------+---------------------+---------------------+---------------------+\n",
      "| Occupation       | Occupation(emp)     | Occupation(emp)     | Occupation(self)    | Occupation(self)    |\n",
      "+------------------+---------------------+---------------------+---------------------+---------------------+\n",
      "| Resident         | Resident(big)       | Resident(small)     | Resident(big)       | Resident(small)     |\n",
      "+------------------+---------------------+---------------------+---------------------+---------------------+\n",
      "| Transport(car)   | 0.6938898971566848  | 0.5093896713615023  | 0.45614035087719296 | 0.39080459770114945 |\n",
      "+------------------+---------------------+---------------------+---------------------+---------------------+\n",
      "| Transport(other) | 0.14761040532365396 | 0.12206572769953053 | 0.27192982456140347 | 0.3218390804597701  |\n",
      "+------------------+---------------------+---------------------+---------------------+---------------------+\n",
      "| Transport(train) | 0.15849969751966123 | 0.3685446009389671  | 0.27192982456140347 | 0.2873563218390805  |\n",
      "+------------------+---------------------+---------------------+---------------------+---------------------+\n"
     ]
    }
   ],
   "source": [
    "equivalent_sample_sizes = [1,10, 20, 100]\n",
    "for sz in equivalent_sample_sizes:\n",
    "    model =  create_and_fit_model(data, BayesianEstimator, sz)\n",
    "    nodes = ['Age', 'Education', 'Sex', 'Occupation', 'Resident', 'Transport']\n",
    "    print('equivalent_sample_sizes/iss:', sz)\n",
    "    for node in nodes:\n",
    "        \n",
    "        print(model.get_cpds(node))"
   ]
  },
  {
   "cell_type": "markdown",
   "metadata": {},
   "source": [
    "4a)"
   ]
  },
  {
   "cell_type": "code",
   "execution_count": 22,
   "metadata": {},
   "outputs": [
    {
     "data": {
      "image/png": "[encoded data removed]",
      "text/plain": [
       "<Figure size 432x288 with 1 Axes>"
      ]
     },
     "metadata": {},
     "output_type": "display_data"
    }
   ],
   "source": [
    "transport_model2 = transport_model.copy()\n",
    "transport_model2.remove_edge('Education', 'Occupation')\n",
    "nx.draw(transport_model2, with_labels=True)\n"
   ]
  },
  {
   "cell_type": "markdown",
   "metadata": {},
   "source": [
    "4b)"
   ]
  },
  {
   "cell_type": "code",
   "execution_count": 25,
   "metadata": {
    "scrolled": false
   },
   "outputs": [
    {
     "name": "stderr",
     "output_type": "stream",
     "text": [
      "WARNING:root:Replacing existing CPD for Age\n",
      "WARNING:root:Replacing existing CPD for Education\n",
      "WARNING:root:Replacing existing CPD for Sex\n",
      "WARNING:root:Replacing existing CPD for Occupation\n",
      "WARNING:root:Replacing existing CPD for Resident\n",
      "WARNING:root:Replacing existing CPD for Transport\n",
      "WARNING:root:Replacing existing CPD for Age\n",
      "WARNING:root:Replacing existing CPD for Education\n",
      "WARNING:root:Replacing existing CPD for Sex\n",
      "WARNING:root:Replacing existing CPD for Occupation\n",
      "WARNING:root:Replacing existing CPD for Resident\n",
      "WARNING:root:Replacing existing CPD for Transport\n"
     ]
    },
    {
     "name": "stdout",
     "output_type": "stream",
     "text": [
      "Age\n",
      "original\n",
      "+------------+----------+\n",
      "| Age(adult) | 0.357393 |\n",
      "+------------+----------+\n",
      "| Age(old)   | 0.158897 |\n",
      "+------------+----------+\n",
      "| Age(young) | 0.483709 |\n",
      "+------------+----------+\n",
      "updated \n",
      "+------------+----------+\n",
      "| Age(adult) | 0.357393 |\n",
      "+------------+----------+\n",
      "| Age(old)   | 0.158897 |\n",
      "+------------+----------+\n",
      "| Age(young) | 0.483709 |\n",
      "+------------+----------+\n",
      "Education\n",
      "original\n",
      "+-----------------+---------------------+--------------------+---------------------+---------------------+---------------------+---------------------+\n",
      "| Age             | Age(adult)          | Age(adult)         | Age(old)            | Age(old)            | Age(young)          | Age(young)          |\n",
      "+-----------------+---------------------+--------------------+---------------------+---------------------+---------------------+---------------------+\n",
      "| Sex             | Sex(F)              | Sex(M)             | Sex(F)              | Sex(M)              | Sex(F)              | Sex(M)              |\n",
      "+-----------------+---------------------+--------------------+---------------------+---------------------+---------------------+---------------------+\n",
      "| Education(high) | 0.6379897785349233  | 0.7181168057210965 | 0.8389121338912134  | 0.8873417721518988  | 0.15682656826568267 | 0.8078260869565217  |\n",
      "+-----------------+---------------------+--------------------+---------------------+---------------------+---------------------+---------------------+\n",
      "| Education(uni)  | 0.36201022146507666 | 0.2818831942789034 | 0.16108786610878664 | 0.11265822784810128 | 0.8431734317343174  | 0.19217391304347825 |\n",
      "+-----------------+---------------------+--------------------+---------------------+---------------------+---------------------+---------------------+\n",
      "updated \n",
      "+-----------------+---------------------+--------------------+---------------------+---------------------+---------------------+---------------------+\n",
      "| Age             | Age(adult)          | Age(adult)         | Age(old)            | Age(old)            | Age(young)          | Age(young)          |\n",
      "+-----------------+---------------------+--------------------+---------------------+---------------------+---------------------+---------------------+\n",
      "| Sex             | Sex(F)              | Sex(M)             | Sex(F)              | Sex(M)              | Sex(F)              | Sex(M)              |\n",
      "+-----------------+---------------------+--------------------+---------------------+---------------------+---------------------+---------------------+\n",
      "| Education(high) | 0.6379897785349233  | 0.7181168057210965 | 0.8389121338912134  | 0.8873417721518988  | 0.15682656826568267 | 0.8078260869565217  |\n",
      "+-----------------+---------------------+--------------------+---------------------+---------------------+---------------------+---------------------+\n",
      "| Education(uni)  | 0.36201022146507666 | 0.2818831942789034 | 0.16108786610878664 | 0.11265822784810128 | 0.8431734317343174  | 0.19217391304347825 |\n",
      "+-----------------+---------------------+--------------------+---------------------+---------------------+---------------------+---------------------+\n",
      "Sex\n",
      "original\n",
      "+--------+----------+\n",
      "| Sex(F) | 0.546617 |\n",
      "+--------+----------+\n",
      "| Sex(M) | 0.453383 |\n",
      "+--------+----------+\n",
      "updated \n",
      "+--------+----------+\n",
      "| Sex(F) | 0.546617 |\n",
      "+--------+----------+\n",
      "| Sex(M) | 0.453383 |\n",
      "+--------+----------+\n",
      "Occupation\n",
      "original\n",
      "+------------------+----------------------+----------------------+\n",
      "| Education        | Education(high)      | Education(uni)       |\n",
      "+------------------+----------------------+----------------------+\n",
      "| Occupation(emp)  | 0.9775510204081632   | 0.9621848739495799   |\n",
      "+------------------+----------------------+----------------------+\n",
      "| Occupation(self) | 0.022448979591836733 | 0.037815126050420166 |\n",
      "+------------------+----------------------+----------------------+\n",
      "updated \n",
      "+------------------+-----------+\n",
      "| Occupation(emp)  | 0.970677  |\n",
      "+------------------+-----------+\n",
      "| Occupation(self) | 0.0293233 |\n",
      "+------------------+-----------+\n",
      "Resident\n",
      "original\n",
      "+-----------------+--------------------+---------------------+\n",
      "| Education       | Education(high)    | Education(uni)      |\n",
      "+-----------------+--------------------+---------------------+\n",
      "| Resident(big)   | 0.7163265306122449 | 0.9352941176470588  |\n",
      "+-----------------+--------------------+---------------------+\n",
      "| Resident(small) | 0.2836734693877551 | 0.06470588235294118 |\n",
      "+-----------------+--------------------+---------------------+\n",
      "updated \n",
      "+-----------------+--------------------+---------------------+\n",
      "| Education       | Education(high)    | Education(uni)      |\n",
      "+-----------------+--------------------+---------------------+\n",
      "| Resident(big)   | 0.7163265306122449 | 0.9352941176470588  |\n",
      "+-----------------+--------------------+---------------------+\n",
      "| Resident(small) | 0.2836734693877551 | 0.06470588235294118 |\n",
      "+-----------------+--------------------+---------------------+\n",
      "Transport\n",
      "original\n",
      "+------------------+---------------------+---------------------+---------------------+---------------------+\n",
      "| Occupation       | Occupation(emp)     | Occupation(emp)     | Occupation(self)    | Occupation(self)    |\n",
      "+------------------+---------------------+---------------------+---------------------+---------------------+\n",
      "| Resident         | Resident(big)       | Resident(small)     | Resident(big)       | Resident(small)     |\n",
      "+------------------+---------------------+---------------------+---------------------+---------------------+\n",
      "| Transport(car)   | 0.7101311838153944  | 0.5447498238195913  | 0.6608187134502924  | 0.6507936507936508  |\n",
      "+------------------+---------------------+---------------------+---------------------+---------------------+\n",
      "| Transport(other) | 0.13924450766556032 | 0.07963354474982381 | 0.16959064327485382 | 0.2698412698412699  |\n",
      "+------------------+---------------------+---------------------+---------------------+---------------------+\n",
      "| Transport(train) | 0.15062430851904537 | 0.3756166314305849  | 0.16959064327485382 | 0.07936507936507937 |\n",
      "+------------------+---------------------+---------------------+---------------------+---------------------+\n",
      "updated \n",
      "+------------------+---------------------+---------------------+---------------------+---------------------+\n",
      "| Occupation       | Occupation(emp)     | Occupation(emp)     | Occupation(self)    | Occupation(self)    |\n",
      "+------------------+---------------------+---------------------+---------------------+---------------------+\n",
      "| Resident         | Resident(big)       | Resident(small)     | Resident(big)       | Resident(small)     |\n",
      "+------------------+---------------------+---------------------+---------------------+---------------------+\n",
      "| Transport(car)   | 0.7101311838153944  | 0.5447498238195913  | 0.6608187134502924  | 0.6507936507936508  |\n",
      "+------------------+---------------------+---------------------+---------------------+---------------------+\n",
      "| Transport(other) | 0.13924450766556032 | 0.07963354474982381 | 0.16959064327485382 | 0.2698412698412699  |\n",
      "+------------------+---------------------+---------------------+---------------------+---------------------+\n",
      "| Transport(train) | 0.15062430851904537 | 0.3756166314305849  | 0.16959064327485382 | 0.07936507936507937 |\n",
      "+------------------+---------------------+---------------------+---------------------+---------------------+\n"
     ]
    }
   ],
   "source": [
    "equivalent_sample_sizes = 5\n",
    "transport_model2.fit(data, estimator=BayesianEstimator)\n",
    "transport_model.fit(data, estimator=BayesianEstimator)\n",
    "nodes = ['Age', 'Education', 'Sex', 'Occupation', 'Resident', 'Transport']\n",
    "\n",
    "for node in nodes:\n",
    "    print(node)\n",
    "    print('original')\n",
    "    print(transport_model.get_cpds(node))\n",
    "    print('updated ')\n",
    "    print(transport_model2.get_cpds(node))"
   ]
  },
  {
   "cell_type": "markdown",
   "metadata": {},
   "source": [
    "The local distributions are all unchanged except for that of the 'Occupation' node\n",
    "\n",
    "Original factorisation is:\n",
    "P(A, S, E, O, R, T) = P(A)P(S)P(E|A, S)P(R|E)P(O|E)P(T| R, O)\n",
    "\n",
    "New factorisation is:\n",
    "P(A, S, E, O, R, T) = P(A)P(S)P(E|A, S)P(R|E)P(O)P(T| R, O)\n",
    "\n",
    "So the 'O' node had it's distribution changed from one that is dependent on E to one that isn't. As expected, the distributions on the other nodes hasn't changed as we can see that the factorisation hasn't changed."
   ]
  },
  {
   "cell_type": "code",
   "execution_count": null,
   "metadata": {},
   "outputs": [],
   "source": []
  },
  {
   "cell_type": "code",
   "execution_count": null,
   "metadata": {},
   "outputs": [],
   "source": []
  },
  {
   "cell_type": "code",
   "execution_count": null,
   "metadata": {},
   "outputs": [],
   "source": [
    "def pyro_model(observed_y):\n",
    "    age = pyro.sample(\"Age\", dist.Categorical(torch.tensor([0.48, 0.36, 0.16]))) #young, adult, old\n",
    "    sex = pyro.sample(\"Sex\",  dist.Categorical(torch.tensor([0.45, 0.55 ]))) # male, female\n",
    "    \n",
    "    education_probs = torch.tensor([[0.16,  0.81, 0.64,  0.72, 0.84, 0.89], [0.84,0.19, 0.36, 0.28, 0.16, 0.11]]) # ed=high, uni\n",
    "    education = pyro.sample(\"Age\", dist.Categorical(education_probs[age][sex]))\n",
    "    \n",
    "    john_probs = torch.tensor([[0.95, 0.05], [0.1, 0.9]])\n",
    "    mary_probs = torch.tensor([[0.99, 0.01], [0.3, 0.7]])\n",
    "    john_calls = pyro.sample(\"J\", dist.Categorical(john_probs[alarm]))\n",
    "    mary_calls = pyro.sample(\"M\", dist.Categorical(mary_probs[alarm]))\n"
   ]
  }
 ],
 "metadata": {
  "kernelspec": {
   "display_name": "immo-ml",
   "language": "python",
   "name": "immo-ml"
  },
  "language_info": {
   "codemirror_mode": {
    "name": "ipython",
    "version": 3
   },
   "file_extension": ".py",
   "mimetype": "text/x-python",
   "name": "python",
   "nbconvert_exporter": "python",
   "pygments_lexer": "ipython3",
   "version": "3.7.6"
  }
 },
 "nbformat": 4,
 "nbformat_minor": 2
}
