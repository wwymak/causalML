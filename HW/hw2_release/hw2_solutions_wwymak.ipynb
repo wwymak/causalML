{
 "cells": [
  {
   "cell_type": "code",
   "execution_count": 1,
   "metadata": {},
   "outputs": [
    {
     "name": "stderr",
     "output_type": "stream",
     "text": [
      "/home/wwymak/anaconda3/envs/immo-ml/lib/python3.7/site-packages/statsmodels/tools/_testing.py:19: FutureWarning: pandas.util.testing is deprecated. Use the functions in the public API at pandas.testing instead.\n",
      "  import pandas.util.testing as tm\n"
     ]
    }
   ],
   "source": [
    "\n",
    "from pgmpy.models import BayesianModel\n",
    "from pgmpy.estimators import BayesianEstimator\n",
    "from pgmpy.estimators import ConstraintBasedEstimator\n",
    "from pgmpy.estimators import K2Score, BicScore, MLE\n",
    "import networkx as nx\n",
    "import matplotlib.pyplot as plt\n",
    "import graphviz\n",
    "import pandas as pd\n",
    "import torch\n",
    "import pyro\n",
    "import numpy as np\n",
    "%matplotlib inline\n",
    "%load_ext autoreload\n",
    "%autoreload 2"
   ]
  },
  {
   "cell_type": "markdown",
   "metadata": {},
   "source": [
    "reconstruct graph"
   ]
  },
  {
   "cell_type": "code",
   "execution_count": 3,
   "metadata": {},
   "outputs": [
    {
     "data": {
      "image/png": "[encoded data removed]",
      "text/plain": [
       "<Figure size 432x288 with 1 Axes>"
      ]
     },
     "metadata": {},
     "output_type": "display_data"
    }
   ],
   "source": [
    "transport_model = BayesianModel([('Age', 'Education'), \n",
    "                                 ('Sex', 'Education'),\n",
    "                                 ('Education', 'Occupation'),\n",
    "                                 ('Education', 'Resident'),\n",
    "                                 ('Occupation', 'Transport'),\n",
    "                                 ('Resident', 'Transport')\n",
    "                                ])\n",
    "\n",
    "nx.draw(transport_model, nx.nx_pydot.graphviz_layout(transport_model, prog='dot'), with_labels=True)\n"
   ]
  },
  {
   "cell_type": "code",
   "execution_count": 6,
   "metadata": {},
   "outputs": [],
   "source": [
    "data = pd.read_csv('survey.txt', sep=\" \")\n",
    "data = data.rename(columns={\"A\": \"Age\", \"R\": \"Resident\", \"E\": \"Education\",  \"O\":\"Occupation\",\n",
    "                            \"S\": \"Sex\", \"T\" :\"Transport\"})\n",
    "\n",
    "transport_model = BayesianModel([('Age', 'Education'), \n",
    "                                 ('Sex', 'Education'),\n",
    "                                 ('Education', 'Occupation'),\n",
    "                                 ('Education', 'Resident'),\n",
    "                                 ('Occupation', 'Transport'),\n",
    "                                 ('Resident', 'Transport')\n",
    "                                ])\n",
    "transport_model.fit(data, estimator=BayesianEstimator)"
   ]
  },
  {
   "cell_type": "code",
   "execution_count": 7,
   "metadata": {},
   "outputs": [
    {
     "data": {
      "text/plain": [
       "(Age _|_ Sex)\n",
       "(Age _|_ Resident, Occupation, Transport | Education)\n",
       "(Age _|_ Resident, Occupation | Transport, Education)\n",
       "(Age _|_ Resident, Occupation, Transport | Sex, Education)\n",
       "(Age _|_ Resident, Transport | Occupation, Education)\n",
       "(Age _|_ Occupation, Transport | Resident, Education)\n",
       "(Age _|_ Transport | Resident, Occupation)\n",
       "(Age _|_ Resident, Occupation | Sex, Transport, Education)\n",
       "(Age _|_ Resident | Occupation, Transport, Education)\n",
       "(Age _|_ Occupation | Resident, Transport, Education)\n",
       "(Age _|_ Resident, Transport | Sex, Occupation, Education)\n",
       "(Age _|_ Occupation, Transport | Sex, Resident, Education)\n",
       "(Age _|_ Transport | Resident, Occupation, Education)\n",
       "(Age _|_ Transport | Resident, Occupation, Sex)\n",
       "(Age _|_ Resident | Sex, Occupation, Transport, Education)\n",
       "(Age _|_ Occupation | Sex, Resident, Transport, Education)\n",
       "(Age _|_ Transport | Sex, Resident, Occupation, Education)\n",
       "(Education _|_ Transport | Resident, Occupation)\n",
       "(Education _|_ Transport | Occupation, Age, Resident)\n",
       "(Education _|_ Transport | Resident, Occupation, Sex)\n",
       "(Education _|_ Transport | Occupation, Age, Resident, Sex)\n",
       "(Sex _|_ Age)\n",
       "(Sex _|_ Resident, Occupation, Transport | Education)\n",
       "(Sex _|_ Resident, Occupation | Transport, Education)\n",
       "(Sex _|_ Resident, Occupation, Transport | Age, Education)\n",
       "(Sex _|_ Resident, Transport | Occupation, Education)\n",
       "(Sex _|_ Occupation, Transport | Resident, Education)\n",
       "(Sex _|_ Transport | Resident, Occupation)\n",
       "(Sex _|_ Resident, Occupation | Age, Transport, Education)\n",
       "(Sex _|_ Resident | Occupation, Transport, Education)\n",
       "(Sex _|_ Occupation | Resident, Transport, Education)\n",
       "(Sex _|_ Resident, Transport | Occupation, Age, Education)\n",
       "(Sex _|_ Occupation, Transport | Resident, Age, Education)\n",
       "(Sex _|_ Transport | Resident, Occupation, Education)\n",
       "(Sex _|_ Transport | Occupation, Age, Resident)\n",
       "(Sex _|_ Resident | Occupation, Age, Transport, Education)\n",
       "(Sex _|_ Occupation | Resident, Age, Transport, Education)\n",
       "(Sex _|_ Transport | Occupation, Age, Resident, Education)\n",
       "(Occupation _|_ Resident, Age, Sex | Education)\n",
       "(Occupation _|_ Age, Sex | Transport, Education)\n",
       "(Occupation _|_ Resident, Sex | Age, Education)\n",
       "(Occupation _|_ Resident, Age | Sex, Education)\n",
       "(Occupation _|_ Age, Sex | Resident, Education)\n",
       "(Occupation _|_ Sex | Age, Transport, Education)\n",
       "(Occupation _|_ Age | Sex, Transport, Education)\n",
       "(Occupation _|_ Age, Sex | Resident, Transport, Education)\n",
       "(Occupation _|_ Resident | Sex, Age, Education)\n",
       "(Occupation _|_ Sex | Resident, Age, Education)\n",
       "(Occupation _|_ Age | Sex, Resident, Education)\n",
       "(Occupation _|_ Sex | Resident, Age, Transport, Education)\n",
       "(Occupation _|_ Age | Sex, Resident, Transport, Education)\n",
       "(Resident _|_ Occupation, Age, Sex | Education)\n",
       "(Resident _|_ Age, Sex | Transport, Education)\n",
       "(Resident _|_ Occupation, Sex | Age, Education)\n",
       "(Resident _|_ Occupation, Age | Sex, Education)\n",
       "(Resident _|_ Age, Sex | Occupation, Education)\n",
       "(Resident _|_ Sex | Age, Transport, Education)\n",
       "(Resident _|_ Age | Sex, Transport, Education)\n",
       "(Resident _|_ Age, Sex | Occupation, Transport, Education)\n",
       "(Resident _|_ Occupation | Sex, Age, Education)\n",
       "(Resident _|_ Sex | Occupation, Age, Education)\n",
       "(Resident _|_ Age | Sex, Occupation, Education)\n",
       "(Resident _|_ Sex | Occupation, Age, Transport, Education)\n",
       "(Resident _|_ Age | Sex, Occupation, Transport, Education)\n",
       "(Transport _|_ Age, Sex | Education)\n",
       "(Transport _|_ Sex | Age, Education)\n",
       "(Transport _|_ Age | Sex, Education)\n",
       "(Transport _|_ Age, Sex | Occupation, Education)\n",
       "(Transport _|_ Age, Sex | Resident, Education)\n",
       "(Transport _|_ Age, Education, Sex | Resident, Occupation)\n",
       "(Transport _|_ Sex | Occupation, Age, Education)\n",
       "(Transport _|_ Sex | Resident, Age, Education)\n",
       "(Transport _|_ Age | Sex, Occupation, Education)\n",
       "(Transport _|_ Age | Sex, Resident, Education)\n",
       "(Transport _|_ Age, Sex | Resident, Occupation, Education)\n",
       "(Transport _|_ Education, Sex | Occupation, Age, Resident)\n",
       "(Transport _|_ Age, Education | Resident, Occupation, Sex)\n",
       "(Transport _|_ Sex | Occupation, Age, Resident, Education)\n",
       "(Transport _|_ Age | Sex, Resident, Occupation, Education)\n",
       "(Transport _|_ Education | Occupation, Age, Resident, Sex)"
      ]
     },
     "execution_count": 7,
     "metadata": {},
     "output_type": "execute_result"
    }
   ],
   "source": [
    "transport_model.get_independencies()"
   ]
  },
  {
   "cell_type": "code",
   "execution_count": 8,
   "metadata": {},
   "outputs": [
    {
     "data": {
      "text/plain": [
       "['graph_attr_dict_factory',\n",
       " 'node_dict_factory',\n",
       " 'node_attr_dict_factory',\n",
       " 'adjlist_outer_dict_factory',\n",
       " 'adjlist_inner_dict_factory',\n",
       " 'edge_attr_dict_factory',\n",
       " 'graph',\n",
       " '_node',\n",
       " '_adj',\n",
       " '_pred',\n",
       " '_succ',\n",
       " 'nodes',\n",
       " 'cpds',\n",
       " 'cardinalities',\n",
       " '__module__',\n",
       " '__doc__',\n",
       " '__init__',\n",
       " 'add_edge',\n",
       " 'remove_node',\n",
       " 'remove_nodes_from',\n",
       " 'add_cpds',\n",
       " 'get_cpds',\n",
       " 'remove_cpds',\n",
       " 'get_cardinality',\n",
       " 'check_model',\n",
       " 'to_markov_model',\n",
       " 'to_junction_tree',\n",
       " 'fit',\n",
       " 'predict',\n",
       " 'predict_probability',\n",
       " 'get_factorized_product',\n",
       " 'is_imap',\n",
       " 'copy',\n",
       " 'get_markov_blanket',\n",
       " 'add_node',\n",
       " 'add_nodes_from',\n",
       " 'add_edges_from',\n",
       " 'get_parents',\n",
       " 'moralize',\n",
       " 'get_leaves',\n",
       " 'out_degree_iter',\n",
       " 'in_degree_iter',\n",
       " 'get_roots',\n",
       " 'get_children',\n",
       " 'get_independencies',\n",
       " 'local_independencies',\n",
       " 'is_iequivalent',\n",
       " 'get_immoralities',\n",
       " 'is_active_trail',\n",
       " 'active_trail_nodes',\n",
       " '_get_ancestors_of',\n",
       " 'do',\n",
       " 'adj',\n",
       " 'succ',\n",
       " 'pred',\n",
       " 'remove_edge',\n",
       " 'remove_edges_from',\n",
       " 'has_successor',\n",
       " 'has_predecessor',\n",
       " 'successors',\n",
       " 'neighbors',\n",
       " 'predecessors',\n",
       " 'edges',\n",
       " 'out_edges',\n",
       " 'in_edges',\n",
       " 'degree',\n",
       " 'in_degree',\n",
       " 'out_degree',\n",
       " 'clear',\n",
       " 'is_multigraph',\n",
       " 'is_directed',\n",
       " 'to_undirected',\n",
       " 'reverse',\n",
       " 'to_directed_class',\n",
       " 'to_undirected_class',\n",
       " 'name',\n",
       " '__str__',\n",
       " '__iter__',\n",
       " '__contains__',\n",
       " '__len__',\n",
       " '__getitem__',\n",
       " 'number_of_nodes',\n",
       " 'order',\n",
       " 'has_node',\n",
       " 'add_weighted_edges_from',\n",
       " 'update',\n",
       " 'has_edge',\n",
       " 'get_edge_data',\n",
       " 'adjacency',\n",
       " 'to_directed',\n",
       " 'subgraph',\n",
       " 'edge_subgraph',\n",
       " 'size',\n",
       " 'number_of_edges',\n",
       " 'nbunch_iter',\n",
       " '__dict__',\n",
       " '__weakref__',\n",
       " '__repr__',\n",
       " '__hash__',\n",
       " '__getattribute__',\n",
       " '__setattr__',\n",
       " '__delattr__',\n",
       " '__lt__',\n",
       " '__le__',\n",
       " '__eq__',\n",
       " '__ne__',\n",
       " '__gt__',\n",
       " '__ge__',\n",
       " '__new__',\n",
       " '__reduce_ex__',\n",
       " '__reduce__',\n",
       " '__subclasshook__',\n",
       " '__init_subclass__',\n",
       " '__format__',\n",
       " '__sizeof__',\n",
       " '__dir__',\n",
       " '__class__']"
      ]
     },
     "execution_count": 8,
     "metadata": {},
     "output_type": "execute_result"
    }
   ],
   "source": [
    "transport_model.__dir__()"
   ]
  },
  {
   "cell_type": "code",
   "execution_count": 25,
   "metadata": {},
   "outputs": [
    {
     "data": {
      "image/png": "[encoded data removed]",
      "text/plain": [
       "<Figure size 720x504 with 2 Axes>"
      ]
     },
     "metadata": {
      "needs_background": "light"
     },
     "output_type": "display_data"
    }
   ],
   "source": [
    "import seaborn as sns\n",
    "import pandas as pd\n",
    "import matplotlib.pyplot as plt\n",
    "array = [[45,5],[12,18]]\n",
    "df_cm = pd.DataFrame(array, columns=['edible', 'poisonous'], index=['edible', 'poisonous'])\n",
    "# plt.xtitle('')\n",
    "# plt.y\n",
    "plt.figure(figsize = (10,7))\n",
    "ax = sns.heatmap(df_cm, annot=True)\n",
    "ax.xaxis.set_ticks_position('top')\n",
    "ax.set(xlabel='actual', ylabel='predicted')\n",
    "ax.yaxis.labelpad = 25\n",
    "ax.xaxis.set_label_position('top') \n",
    "ax.xaxis.labelpad = 25\n",
    "plt.savefig(\"mushrooms_confusion_matrix.png\")"
   ]
  },
  {
   "cell_type": "code",
   "execution_count": 16,
   "metadata": {},
   "outputs": [
    {
     "data": {
      "text/plain": [
       "Text(0.5, 1, \"Anscombe's quartet\")"
      ]
     },
     "execution_count": 16,
     "metadata": {},
     "output_type": "execute_result"
    },
    {
     "data": {
      "image/png": "[encoded data removed]",
      "text/plain": [
       "<Figure size 576x576 with 4 Axes>"
      ]
     },
     "metadata": {},
     "output_type": "display_data"
    }
   ],
   "source": [
    "import seaborn as sns\n",
    "import matplotlib.pyplot as plt\n",
    "sns.set(style=\"ticks\")\n",
    "\n",
    "# Load the example dataset for Anscombe's quartet\n",
    "df = sns.load_dataset(\"anscombe\")\n",
    "\n",
    "# Show the results of a linear regression within each dataset\n",
    "ax = sns.lmplot(x=\"x\", y=\"y\", col=\"dataset\", hue=\"dataset\", data=df,\n",
    "           col_wrap=2, ci=None, palette=\"muted\", height=4,\n",
    "           scatter_kws={\"s\": 50, \"alpha\": 1});\n",
    "\n",
    "plt.title(\"Anscombe's quartet\")\n"
   ]
  },
  {
   "cell_type": "code",
   "execution_count": 2,
   "metadata": {},
   "outputs": [
    {
     "data": {
      "text/html": [
       "<div>\n",
       "<style scoped>\n",
       "    .dataframe tbody tr th:only-of-type {\n",
       "        vertical-align: middle;\n",
       "    }\n",
       "\n",
       "    .dataframe tbody tr th {\n",
       "        vertical-align: top;\n",
       "    }\n",
       "\n",
       "    .dataframe thead tr th {\n",
       "        text-align: left;\n",
       "    }\n",
       "\n",
       "    .dataframe thead tr:last-of-type th {\n",
       "        text-align: right;\n",
       "    }\n",
       "</style>\n",
       "<table border=\"1\" class=\"dataframe\">\n",
       "  <thead>\n",
       "    <tr>\n",
       "      <th></th>\n",
       "      <th colspan=\"3\" halign=\"left\">x</th>\n",
       "      <th colspan=\"3\" halign=\"left\">y</th>\n",
       "    </tr>\n",
       "    <tr>\n",
       "      <th></th>\n",
       "      <th>mean</th>\n",
       "      <th>median</th>\n",
       "      <th>std</th>\n",
       "      <th>mean</th>\n",
       "      <th>median</th>\n",
       "      <th>std</th>\n",
       "    </tr>\n",
       "    <tr>\n",
       "      <th>dataset</th>\n",
       "      <th></th>\n",
       "      <th></th>\n",
       "      <th></th>\n",
       "      <th></th>\n",
       "      <th></th>\n",
       "      <th></th>\n",
       "    </tr>\n",
       "  </thead>\n",
       "  <tbody>\n",
       "    <tr>\n",
       "      <th>I</th>\n",
       "      <td>9.0</td>\n",
       "      <td>9.0</td>\n",
       "      <td>3.316625</td>\n",
       "      <td>7.500909</td>\n",
       "      <td>7.58</td>\n",
       "      <td>2.031568</td>\n",
       "    </tr>\n",
       "    <tr>\n",
       "      <th>II</th>\n",
       "      <td>9.0</td>\n",
       "      <td>9.0</td>\n",
       "      <td>3.316625</td>\n",
       "      <td>7.500909</td>\n",
       "      <td>8.14</td>\n",
       "      <td>2.031657</td>\n",
       "    </tr>\n",
       "    <tr>\n",
       "      <th>III</th>\n",
       "      <td>9.0</td>\n",
       "      <td>9.0</td>\n",
       "      <td>3.316625</td>\n",
       "      <td>7.500000</td>\n",
       "      <td>7.11</td>\n",
       "      <td>2.030424</td>\n",
       "    </tr>\n",
       "    <tr>\n",
       "      <th>IV</th>\n",
       "      <td>9.0</td>\n",
       "      <td>8.0</td>\n",
       "      <td>3.316625</td>\n",
       "      <td>7.500909</td>\n",
       "      <td>7.04</td>\n",
       "      <td>2.030579</td>\n",
       "    </tr>\n",
       "  </tbody>\n",
       "</table>\n",
       "</div>"
      ],
      "text/plain": [
       "           x                          y                 \n",
       "        mean median       std      mean median       std\n",
       "dataset                                                 \n",
       "I        9.0    9.0  3.316625  7.500909   7.58  2.031568\n",
       "II       9.0    9.0  3.316625  7.500909   8.14  2.031657\n",
       "III      9.0    9.0  3.316625  7.500000   7.11  2.030424\n",
       "IV       9.0    8.0  3.316625  7.500909   7.04  2.030579"
      ]
     },
     "execution_count": 2,
     "metadata": {},
     "output_type": "execute_result"
    }
   ],
   "source": [
    "df.groupby('dataset').agg(['mean', 'median', 'std'])"
   ]
  },
  {
   "cell_type": "code",
   "execution_count": 7,
   "metadata": {},
   "outputs": [
    {
     "data": {
      "text/plain": [
       "\"| dataset   |   ('x', 'mean') |   ('x', 'median') |   ('x', 'std') |   ('y', 'mean') |   ('y', 'median') |   ('y', 'std') |\\n|:----------|----------------:|------------------:|---------------:|----------------:|------------------:|---------------:|\\n| I         |               9 |                 9 |        3.31662 |         7.50091 |              7.58 |        2.03157 |\\n| II        |               9 |                 9 |        3.31662 |         7.50091 |              8.14 |        2.03166 |\\n| III       |               9 |                 9 |        3.31662 |         7.5     |              7.11 |        2.03042 |\\n| IV        |               9 |                 8 |        3.31662 |         7.50091 |              7.04 |        2.03058 |\""
      ]
     },
     "execution_count": 7,
     "metadata": {},
     "output_type": "execute_result"
    }
   ],
   "source": [
    "df.groupby('dataset').agg(['mean', 'median', 'std']).to_markdown()"
   ]
  },
  {
   "cell_type": "code",
   "execution_count": 4,
   "metadata": {},
   "outputs": [
    {
     "data": {
      "text/html": [
       "<div>\n",
       "<style scoped>\n",
       "    .dataframe tbody tr th:only-of-type {\n",
       "        vertical-align: middle;\n",
       "    }\n",
       "\n",
       "    .dataframe tbody tr th {\n",
       "        vertical-align: top;\n",
       "    }\n",
       "\n",
       "    .dataframe thead th {\n",
       "        text-align: right;\n",
       "    }\n",
       "</style>\n",
       "<table border=\"1\" class=\"dataframe\">\n",
       "  <thead>\n",
       "    <tr style=\"text-align: right;\">\n",
       "      <th></th>\n",
       "      <th></th>\n",
       "      <th>x</th>\n",
       "      <th>y</th>\n",
       "    </tr>\n",
       "    <tr>\n",
       "      <th>dataset</th>\n",
       "      <th></th>\n",
       "      <th></th>\n",
       "      <th></th>\n",
       "    </tr>\n",
       "  </thead>\n",
       "  <tbody>\n",
       "    <tr>\n",
       "      <th rowspan=\"2\" valign=\"top\">I</th>\n",
       "      <th>x</th>\n",
       "      <td>1.000000</td>\n",
       "      <td>0.816421</td>\n",
       "    </tr>\n",
       "    <tr>\n",
       "      <th>y</th>\n",
       "      <td>0.816421</td>\n",
       "      <td>1.000000</td>\n",
       "    </tr>\n",
       "    <tr>\n",
       "      <th rowspan=\"2\" valign=\"top\">II</th>\n",
       "      <th>x</th>\n",
       "      <td>1.000000</td>\n",
       "      <td>0.816237</td>\n",
       "    </tr>\n",
       "    <tr>\n",
       "      <th>y</th>\n",
       "      <td>0.816237</td>\n",
       "      <td>1.000000</td>\n",
       "    </tr>\n",
       "    <tr>\n",
       "      <th rowspan=\"2\" valign=\"top\">III</th>\n",
       "      <th>x</th>\n",
       "      <td>1.000000</td>\n",
       "      <td>0.816287</td>\n",
       "    </tr>\n",
       "    <tr>\n",
       "      <th>y</th>\n",
       "      <td>0.816287</td>\n",
       "      <td>1.000000</td>\n",
       "    </tr>\n",
       "    <tr>\n",
       "      <th rowspan=\"2\" valign=\"top\">IV</th>\n",
       "      <th>x</th>\n",
       "      <td>1.000000</td>\n",
       "      <td>0.816521</td>\n",
       "    </tr>\n",
       "    <tr>\n",
       "      <th>y</th>\n",
       "      <td>0.816521</td>\n",
       "      <td>1.000000</td>\n",
       "    </tr>\n",
       "  </tbody>\n",
       "</table>\n",
       "</div>"
      ],
      "text/plain": [
       "                  x         y\n",
       "dataset                      \n",
       "I       x  1.000000  0.816421\n",
       "        y  0.816421  1.000000\n",
       "II      x  1.000000  0.816237\n",
       "        y  0.816237  1.000000\n",
       "III     x  1.000000  0.816287\n",
       "        y  0.816287  1.000000\n",
       "IV      x  1.000000  0.816521\n",
       "        y  0.816521  1.000000"
      ]
     },
     "execution_count": 4,
     "metadata": {},
     "output_type": "execute_result"
    }
   ],
   "source": [
    "df.groupby('dataset')[[\"x\", \"y\"]].corr()"
   ]
  },
  {
   "cell_type": "code",
   "execution_count": 5,
   "metadata": {},
   "outputs": [
    {
     "data": {
      "text/html": [
       "<div>\n",
       "<style scoped>\n",
       "    .dataframe tbody tr th:only-of-type {\n",
       "        vertical-align: middle;\n",
       "    }\n",
       "\n",
       "    .dataframe tbody tr th {\n",
       "        vertical-align: top;\n",
       "    }\n",
       "\n",
       "    .dataframe thead th {\n",
       "        text-align: right;\n",
       "    }\n",
       "</style>\n",
       "<table border=\"1\" class=\"dataframe\">\n",
       "  <thead>\n",
       "    <tr style=\"text-align: right;\">\n",
       "      <th></th>\n",
       "      <th>x</th>\n",
       "      <th>intercept</th>\n",
       "    </tr>\n",
       "    <tr>\n",
       "      <th>dataset</th>\n",
       "      <th></th>\n",
       "      <th></th>\n",
       "    </tr>\n",
       "  </thead>\n",
       "  <tbody>\n",
       "    <tr>\n",
       "      <th>I</th>\n",
       "      <td>0.500091</td>\n",
       "      <td>3.000091</td>\n",
       "    </tr>\n",
       "    <tr>\n",
       "      <th>II</th>\n",
       "      <td>0.500000</td>\n",
       "      <td>3.000909</td>\n",
       "    </tr>\n",
       "    <tr>\n",
       "      <th>III</th>\n",
       "      <td>0.499727</td>\n",
       "      <td>3.002455</td>\n",
       "    </tr>\n",
       "    <tr>\n",
       "      <th>IV</th>\n",
       "      <td>0.499909</td>\n",
       "      <td>3.001727</td>\n",
       "    </tr>\n",
       "  </tbody>\n",
       "</table>\n",
       "</div>"
      ],
      "text/plain": [
       "                x  intercept\n",
       "dataset                     \n",
       "I        0.500091   3.000091\n",
       "II       0.500000   3.000909\n",
       "III      0.499727   3.002455\n",
       "IV       0.499909   3.001727"
      ]
     },
     "execution_count": 5,
     "metadata": {},
     "output_type": "execute_result"
    }
   ],
   "source": [
    "import pandas as pd\n",
    "import statsmodels.api as sm \n",
    "\n",
    "def regress(data, yvar, xvars):\n",
    "    Y = data[yvar]\n",
    "    X = data[xvars]\n",
    "    X['intercept'] = 1.\n",
    "    result = sm.OLS(Y, X).fit()\n",
    "    return result.params\n",
    "\n",
    "\n",
    "#This is what you need\n",
    "df.groupby('dataset').apply(regress, 'y', ['x'])"
   ]
  },
  {
   "cell_type": "code",
   "execution_count": null,
   "metadata": {},
   "outputs": [],
   "source": []
  }
 ],
 "metadata": {
  "kernelspec": {
   "display_name": "immo-ml",
   "language": "python",
   "name": "immo-ml"
  },
  "language_info": {
   "codemirror_mode": {
    "name": "ipython",
    "version": 3
   },
   "file_extension": ".py",
   "mimetype": "text/x-python",
   "name": "python",
   "nbconvert_exporter": "python",
   "pygments_lexer": "ipython3",
   "version": "3.7.6"
  }
 },
 "nbformat": 4,
 "nbformat_minor": 2
}
