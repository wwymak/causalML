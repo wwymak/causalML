{
 "cells": [
  {
   "cell_type": "code",
   "execution_count": 1,
   "metadata": {},
   "outputs": [
    {
     "name": "stderr",
     "output_type": "stream",
     "text": [
      "/home/wwymak/anaconda3/envs/immo-ml/lib/python3.7/site-packages/statsmodels/tools/_testing.py:19: FutureWarning: pandas.util.testing is deprecated. Use the functions in the public API at pandas.testing instead.\n",
      "  import pandas.util.testing as tm\n"
     ]
    }
   ],
   "source": [
    "\n",
    "from pgmpy.models import BayesianModel\n",
    "from pgmpy.estimators import BayesianEstimator\n",
    "from pgmpy.estimators import ConstraintBasedEstimator\n",
    "from pgmpy.factors.discrete.CPD import TabularCPD\n",
    "from pgmpy.estimators import K2Score, BicScore, MLE\n",
    "import networkx as nx\n",
    "import matplotlib.pyplot as plt\n",
    "import graphviz\n",
    "import pandas as pd\n",
    "import torch\n",
    "import pyro\n",
    "import itertools\n",
    "import numpy as np\n",
    "%matplotlib inline\n",
    "%load_ext autoreload\n",
    "%autoreload 2"
   ]
  },
  {
   "cell_type": "markdown",
   "metadata": {},
   "source": [
    "reconstruct graph"
   ]
  },
  {
   "cell_type": "code",
   "execution_count": 2,
   "metadata": {},
   "outputs": [
    {
     "data": {
      "image/png": "[encoded data removed]",
      "text/plain": [
       "<Figure size 432x288 with 1 Axes>"
      ]
     },
     "metadata": {},
     "output_type": "display_data"
    }
   ],
   "source": [
    "transport_model = BayesianModel([('Age', 'Education'), \n",
    "                                 ('Sex', 'Education'),\n",
    "                                 ('Education', 'Occupation'),\n",
    "                                 ('Education', 'Resident'),\n",
    "                                 ('Occupation', 'Transport'),\n",
    "                                 ('Resident', 'Transport')\n",
    "                                ])\n",
    "\n",
    "nx.draw(transport_model, nx.nx_pydot.graphviz_layout(transport_model, prog='dot'), with_labels=True)\n"
   ]
  },
  {
   "cell_type": "code",
   "execution_count": 3,
   "metadata": {},
   "outputs": [],
   "source": [
    "data = pd.read_csv('survey.txt', sep=\" \")\n",
    "data = data.rename(columns={\"A\": \"Age\", \"R\": \"Resident\", \"E\": \"Education\",  \"O\":\"Occupation\",\n",
    "                            \"S\": \"Sex\", \"T\" :\"Transport\"})\n",
    "\n",
    "transport_model = BayesianModel([('Age', 'Education'), \n",
    "                                 ('Sex', 'Education'),\n",
    "                                 ('Education', 'Occupation'),\n",
    "                                 ('Education', 'Resident'),\n",
    "                                 ('Occupation', 'Transport'),\n",
    "                                 ('Resident', 'Transport')\n",
    "                                ])\n",
    "transport_model.fit(data, estimator=BayesianEstimator)"
   ]
  },
  {
   "cell_type": "markdown",
   "metadata": {},
   "source": [
    "pgmpy already has a d-separation calculation out of the box that does all the comparisons for us:"
   ]
  },
  {
   "cell_type": "code",
   "execution_count": 4,
   "metadata": {
    "scrolled": false
   },
   "outputs": [
    {
     "data": {
      "text/plain": [
       "(Age _|_ Sex)\n",
       "(Age _|_ Resident, Occupation, Transport | Education)\n",
       "(Age _|_ Occupation, Transport | Education, Resident)\n",
       "(Age _|_ Transport | Resident, Occupation)\n",
       "(Age _|_ Resident, Transport | Education, Occupation)\n",
       "(Age _|_ Resident, Occupation, Transport | Education, Sex)\n",
       "(Age _|_ Resident, Occupation | Education, Transport)\n",
       "(Age _|_ Transport | Education, Resident, Occupation)\n",
       "(Age _|_ Occupation, Transport | Education, Resident, Sex)\n",
       "(Age _|_ Occupation | Education, Resident, Transport)\n",
       "(Age _|_ Transport | Resident, Occupation, Sex)\n",
       "(Age _|_ Resident, Transport | Education, Occupation, Sex)\n",
       "(Age _|_ Resident | Education, Occupation, Transport)\n",
       "(Age _|_ Resident, Occupation | Education, Sex, Transport)\n",
       "(Age _|_ Transport | Education, Resident, Occupation, Sex)\n",
       "(Age _|_ Occupation | Education, Resident, Sex, Transport)\n",
       "(Age _|_ Resident | Education, Transport, Occupation, Sex)\n",
       "(Education _|_ Transport | Resident, Occupation)\n",
       "(Education _|_ Transport | Resident, Occupation, Sex)\n",
       "(Education _|_ Transport | Resident, Occupation, Age)\n",
       "(Education _|_ Transport | Resident, Occupation, Sex, Age)\n",
       "(Sex _|_ Age)\n",
       "(Sex _|_ Resident, Occupation, Transport | Education)\n",
       "(Sex _|_ Occupation, Transport | Education, Resident)\n",
       "(Sex _|_ Transport | Resident, Occupation)\n",
       "(Sex _|_ Resident, Transport | Education, Occupation)\n",
       "(Sex _|_ Resident, Occupation, Transport | Education, Age)\n",
       "(Sex _|_ Resident, Occupation | Education, Transport)\n",
       "(Sex _|_ Transport | Education, Resident, Occupation)\n",
       "(Sex _|_ Occupation, Transport | Education, Resident, Age)\n",
       "(Sex _|_ Occupation | Education, Resident, Transport)\n",
       "(Sex _|_ Transport | Resident, Occupation, Age)\n",
       "(Sex _|_ Resident, Transport | Education, Age, Occupation)\n",
       "(Sex _|_ Resident | Education, Occupation, Transport)\n",
       "(Sex _|_ Resident, Occupation | Education, Age, Transport)\n",
       "(Sex _|_ Transport | Education, Resident, Occupation, Age)\n",
       "(Sex _|_ Occupation | Education, Resident, Age, Transport)\n",
       "(Sex _|_ Resident | Education, Age, Occupation, Transport)\n",
       "(Occupation _|_ Resident, Sex, Age | Education)\n",
       "(Occupation _|_ Age, Sex | Education, Resident)\n",
       "(Occupation _|_ Resident, Age | Education, Sex)\n",
       "(Occupation _|_ Resident, Sex | Education, Age)\n",
       "(Occupation _|_ Age, Sex | Education, Transport)\n",
       "(Occupation _|_ Age | Education, Resident, Sex)\n",
       "(Occupation _|_ Sex | Education, Resident, Age)\n",
       "(Occupation _|_ Age, Sex | Education, Resident, Transport)\n",
       "(Occupation _|_ Resident | Education, Age, Sex)\n",
       "(Occupation _|_ Age | Education, Sex, Transport)\n",
       "(Occupation _|_ Sex | Education, Age, Transport)\n",
       "(Occupation _|_ Age | Education, Resident, Sex, Transport)\n",
       "(Occupation _|_ Sex | Education, Resident, Age, Transport)\n",
       "(Resident _|_ Occupation, Age, Sex | Education)\n",
       "(Resident _|_ Age, Sex | Education, Occupation)\n",
       "(Resident _|_ Occupation, Age | Education, Sex)\n",
       "(Resident _|_ Occupation, Sex | Education, Age)\n",
       "(Resident _|_ Age, Sex | Education, Transport)\n",
       "(Resident _|_ Age | Education, Occupation, Sex)\n",
       "(Resident _|_ Sex | Education, Age, Occupation)\n",
       "(Resident _|_ Age, Sex | Education, Occupation, Transport)\n",
       "(Resident _|_ Occupation | Education, Age, Sex)\n",
       "(Resident _|_ Age | Education, Sex, Transport)\n",
       "(Resident _|_ Sex | Education, Age, Transport)\n",
       "(Resident _|_ Age | Education, Transport, Occupation, Sex)\n",
       "(Resident _|_ Sex | Education, Age, Occupation, Transport)\n",
       "(Transport _|_ Age, Sex | Education)\n",
       "(Transport _|_ Age, Sex | Education, Resident)\n",
       "(Transport _|_ Education, Age, Sex | Resident, Occupation)\n",
       "(Transport _|_ Age, Sex | Education, Occupation)\n",
       "(Transport _|_ Age | Education, Sex)\n",
       "(Transport _|_ Sex | Education, Age)\n",
       "(Transport _|_ Age, Sex | Education, Resident, Occupation)\n",
       "(Transport _|_ Age | Education, Resident, Sex)\n",
       "(Transport _|_ Sex | Education, Resident, Age)\n",
       "(Transport _|_ Education, Age | Resident, Occupation, Sex)\n",
       "(Transport _|_ Education, Sex | Resident, Occupation, Age)\n",
       "(Transport _|_ Age | Education, Occupation, Sex)\n",
       "(Transport _|_ Sex | Education, Age, Occupation)\n",
       "(Transport _|_ Age | Education, Resident, Occupation, Sex)\n",
       "(Transport _|_ Sex | Education, Resident, Occupation, Age)\n",
       "(Transport _|_ Education | Resident, Occupation, Sex, Age)"
      ]
     },
     "execution_count": 4,
     "metadata": {},
     "output_type": "execute_result"
    }
   ],
   "source": [
    "transport_model.get_independencies()"
   ]
  },
  {
   "cell_type": "markdown",
   "metadata": {},
   "source": [
    "Redundant statements: \n",
    "- (Age _|_ Resident | Education, Transport, Occupation, Sex) -> (Resident _|_ Age | Education, Transport, Occupation, Sex)\n",
    "- (Transport _|_ Age | Education, Resident, Sex) -> (Age _|_ Transport | Resident, Occupation, Sex)\n",
    "\n",
    "These are examples of redundant statements since swapping the order in which you state the 2 independent nodes should not have any effect on the independence. E.g in the 1st statement, age is d-separated from resident given education, transport, occupation and sex vs resident is d-separated from age given education, transport, occupation and sex are exactly identical statements"
   ]
  },
  {
   "cell_type": "code",
   "execution_count": null,
   "metadata": {},
   "outputs": [],
   "source": [
    "for node1 in transport_model.nodes():\n",
    "    node_others  = set(transport_model.nodes()) - {node1}\n",
    "    print(node1, node_others)\n",
    "    \n",
    "\n",
    "for start in self.nodes():\n",
    "            rest = set(self.nodes()) - {start}\n",
    "            for r in range(len(rest)):\n",
    "                for observed in itertools.combinations(rest, r):\n",
    "                    d_seperated_variables = (\n",
    "                        rest\n",
    "                        - set(observed)\n",
    "                        - set(self.active_trail_nodes(start, observed=observed)[start])\n",
    "                    )\n",
    "                    if d_seperated_variables:\n",
    "                        independencies.add_assertions(\n",
    "                            [start, d_seperated_variables, observed]\n",
    "                        )\n"
   ]
  },
  {
   "cell_type": "markdown",
   "metadata": {},
   "source": [
    "(Occupation _|_ Resident, Sex, Age | Education) means occupations is independent of sex, age, and whehter the person lives in a big city if we know his/her education level"
   ]
  },
  {
   "cell_type": "markdown",
   "metadata": {},
   "source": [
    "#### Q3"
   ]
  },
  {
   "cell_type": "code",
   "execution_count": 2,
   "metadata": {},
   "outputs": [
    {
     "data": {
      "image/png": "[encoded data removed]",
      "text/plain": [
       "<Figure size 432x288 with 1 Axes>"
      ]
     },
     "metadata": {},
     "output_type": "display_data"
    }
   ],
   "source": [
    "model = BayesianModel([\n",
    "    ('A', 'B'), \n",
    "     ('A', 'C'),\n",
    "     ('B', 'C')\n",
    "    ])\n",
    "nombres = [\"off\", \"on\"]\n",
    "cpt_a = TabularCPD('A', 2, [0.5,0.5])\n",
    "cpt_b = TabularCPD('B', 4, [.8, .2, .1, .9])\n",
    "nx.draw(model, nx.nx_pydot.graphviz_layout(model, prog='dot'), with_labels=True)"
   ]
  },
  {
   "cell_type": "code",
   "execution_count": 4,
   "metadata": {},
   "outputs": [
    {
     "data": {
      "text/plain": [
       "(3, 6)"
      ]
     },
     "execution_count": 4,
     "metadata": {},
     "output_type": "execute_result"
    }
   ],
   "source": [
    "np.array([[0.1,0.1,0.1,0.1,0.1,0.1],\n",
    "                                [0.1,0.1,0.1,0.1,0.1,0.1],\n",
    "                                [0.8,0.8,0.8,0.8,0.8,0.8]]).shape"
   ]
  },
  {
   "cell_type": "code",
   "execution_count": 4,
   "metadata": {},
   "outputs": [
    {
     "data": {
      "text/plain": [
       "array([[0.1, 0.9],\n",
       "       [0.4, 0.6]])"
      ]
     },
     "execution_count": 4,
     "metadata": {},
     "output_type": "execute_result"
    }
   ],
   "source": [
    "import numpy as np\n",
    "C = np.array([.9, .1, .99, .01, .1, .9, .4, .6]).reshape(2,2,2)\n",
    "C[1]"
   ]
  },
  {
   "cell_type": "code",
   "execution_count": null,
   "metadata": {},
   "outputs": [],
   "source": []
  }
 ],
 "metadata": {
  "kernelspec": {
   "display_name": "immo-ml",
   "language": "python",
   "name": "immo-ml"
  },
  "language_info": {
   "codemirror_mode": {
    "name": "ipython",
    "version": 3
   },
   "file_extension": ".py",
   "mimetype": "text/x-python",
   "name": "python",
   "nbconvert_exporter": "python",
   "pygments_lexer": "ipython3",
   "version": "3.7.6"
  }
 },
 "nbformat": 4,
 "nbformat_minor": 2
}
