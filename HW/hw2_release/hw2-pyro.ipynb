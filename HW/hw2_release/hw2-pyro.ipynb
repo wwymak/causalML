{
 "cells": [
  {
   "cell_type": "code",
   "execution_count": 9,
   "metadata": {},
   "outputs": [],
   "source": [
    "warning_status = \"ignore\" #@param [\"ignore\", \"always\", \"module\", \"once\", \"default\", \"error\"]\n",
    "import warnings\n",
    "warnings.filterwarnings(warning_status)\n",
    "with warnings.catch_warnings():\n",
    "    warnings.filterwarnings(warning_status, category=DeprecationWarning)\n",
    "    warnings.filterwarnings(warning_status, category=UserWarning)\n",
    "\n",
    "import torch\n",
    "import torch.nn.functional as F\n",
    "import pyro\n",
    "import pyro.distributions as dist\n",
    "from pyro.infer import EmpiricalMarginal"
   ]
  },
  {
   "cell_type": "code",
   "execution_count": 2,
   "metadata": {},
   "outputs": [],
   "source": [
    "def model():\n",
    "    A_probs = torch.tensor([0.5, 0.5])\n",
    "\n",
    "    B_probs = torch.tensor([\n",
    "            [0.8, 0.2],\n",
    "            [0.1, 0.9]\n",
    "    ]) \n",
    "    C_probs = torch.tensor([\n",
    "            [[0.90, 0.10], [0.99, 0.01]],\n",
    "            [[0.10, 0.9], [0.40, 0.60]]])\n",
    "\n",
    "\n",
    "    A = pyro.sample(\"A\", pyro.distributions.Categorical(probs=A_probs)) \n",
    "    B = pyro.sample(\"B\",  pyro.distributions.Categorical(probs=B_probs[A])) \n",
    "    C = pyro.sample(\"C\", pyro.distributions.Categorical(probs=C_probs[B][A]))\n",
    "\n",
    "    return{'A': A,\n",
    "           'B': B,\n",
    "           'C': C\n",
    "          }"
   ]
  },
  {
   "cell_type": "code",
   "execution_count": 3,
   "metadata": {},
   "outputs": [],
   "source": [
    "\n",
    "intervened_model = pyro.condition( pyro.do( model, data={'B': torch.tensor(1) } ), data={'C': torch.tensor(1) } )\n",
    "conditioned_model = pyro.condition(model,  data={\"B\": torch.tensor(1), \"C\": torch.tensor(1)})"
   ]
  },
  {
   "cell_type": "code",
   "execution_count": 4,
   "metadata": {},
   "outputs": [
    {
     "data": {
      "text/plain": [
       "0.4054"
      ]
     },
     "execution_count": 4,
     "metadata": {},
     "output_type": "execute_result"
    }
   ],
   "source": [
    "posterior_intervened = pyro.infer.Importance(intervened_model, num_samples=5000).run()\n",
    "marginal_intervened = EmpiricalMarginal(posterior_intervened, \"A\")\n",
    "samples_intervened = [marginal_intervened().item() for _ in range(5000)]\n",
    "unique_intervened, counts_intervened = np.unique(samples_intervened, return_counts=True)\n",
    "p_a_doB = counts_intervened[1]/counts_intervened.sum()\n",
    "p_a_doB"
   ]
  },
  {
   "cell_type": "code",
   "execution_count": 7,
   "metadata": {},
   "outputs": [
    {
     "data": {
      "text/plain": [
       "0.7564"
      ]
     },
     "execution_count": 7,
     "metadata": {},
     "output_type": "execute_result"
    }
   ],
   "source": [
    "posterior_conditioned = pyro.infer.Importance(conditioned_model, num_samples=5000).run()\n",
    "marginal_conditioned = EmpiricalMarginal(posterior_conditioned, \"A\")\n",
    "samples_conditioned = [marginal_conditioned().item() for _ in range(5000)]\n",
    "unique_conditioned, counts_conditioned = np.unique(samples_conditioned, return_counts=True)\n",
    "p_a_B = counts_conditioned[1]/counts_conditioned.sum()\n",
    "p_a_B"
   ]
  },
  {
   "cell_type": "code",
   "execution_count": 8,
   "metadata": {},
   "outputs": [
    {
     "name": "stdout",
     "output_type": "stream",
     "text": [
      "P (A = on | B = on, C = on) = 0.7564 and P (A = on | do(B = on), C = on) = 0.4054\n"
     ]
    }
   ],
   "source": [
    "print(f\"P (A = on | B = on, C = on) = {p_a_B} and P (A = on | do(B = on), C = on) = {p_a_doB}\")"
   ]
  },
  {
   "cell_type": "code",
   "execution_count": null,
   "metadata": {},
   "outputs": [],
   "source": []
  }
 ],
 "metadata": {
  "kernelspec": {
   "display_name": "Python [conda env:immo-ml]",
   "language": "python",
   "name": "conda-env-immo-ml-py"
  },
  "language_info": {
   "codemirror_mode": {
    "name": "ipython",
    "version": 3
   },
   "file_extension": ".py",
   "mimetype": "text/x-python",
   "name": "python",
   "nbconvert_exporter": "python",
   "pygments_lexer": "ipython3",
   "version": "3.7.6"
  }
 },
 "nbformat": 4,
 "nbformat_minor": 2
}
