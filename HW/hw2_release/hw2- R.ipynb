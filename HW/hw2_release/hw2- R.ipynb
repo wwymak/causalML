{
 "cells": [
  {
   "cell_type": "code",
   "execution_count": 1,
   "metadata": {
    "scrolled": true
   },
   "outputs": [
    {
     "name": "stderr",
     "output_type": "stream",
     "text": [
      "Loading required package: graph\n",
      "\n",
      "Loading required package: BiocGenerics\n",
      "\n",
      "Loading required package: parallel\n",
      "\n",
      "\n",
      "Attaching package: ‘BiocGenerics’\n",
      "\n",
      "\n",
      "The following objects are masked from ‘package:parallel’:\n",
      "\n",
      "    clusterApply, clusterApplyLB, clusterCall, clusterEvalQ,\n",
      "    clusterExport, clusterMap, parApply, parCapply, parLapply,\n",
      "    parLapplyLB, parRapply, parSapply, parSapplyLB\n",
      "\n",
      "\n",
      "The following object is masked from ‘package:bnlearn’:\n",
      "\n",
      "    score\n",
      "\n",
      "\n",
      "The following objects are masked from ‘package:stats’:\n",
      "\n",
      "    IQR, mad, sd, var, xtabs\n",
      "\n",
      "\n",
      "The following objects are masked from ‘package:base’:\n",
      "\n",
      "    anyDuplicated, append, as.data.frame, cbind, colMeans, colnames,\n",
      "    colSums, do.call, duplicated, eval, evalq, Filter, Find, get, grep,\n",
      "    grepl, intersect, is.unsorted, lapply, lengths, Map, mapply, match,\n",
      "    mget, order, paste, pmax, pmax.int, pmin, pmin.int, Position, rank,\n",
      "    rbind, Reduce, rowMeans, rownames, rowSums, sapply, setdiff, sort,\n",
      "    table, tapply, union, unique, unsplit, which, which.max, which.min\n",
      "\n",
      "\n",
      "\n",
      "Attaching package: ‘graph’\n",
      "\n",
      "\n",
      "The following objects are masked from ‘package:bnlearn’:\n",
      "\n",
      "    degree, nodes, nodes<-\n",
      "\n",
      "\n",
      "Loading required package: grid\n",
      "\n"
     ]
    }
   ],
   "source": [
    "library('bnlearn')\n",
    "library(Rgraphviz);"
   ]
  },
  {
   "cell_type": "code",
   "execution_count": 2,
   "metadata": {},
   "outputs": [],
   "source": [
    "survey <- read.delim('survey.txt', sep = \" \")\n",
    "net <-  model2network(\"[A][S][E|A:S][O|E][R|E][T|O:R]\")"
   ]
  },
  {
   "cell_type": "code",
   "execution_count": 3,
   "metadata": {},
   "outputs": [
    {
     "data": {
      "image/png": "[encoded data removed]",
      "text/plain": [
       "plot without title"
      ]
     },
     "metadata": {
      "image/png": {
       "height": 420,
       "width": 420
      },
      "text/plain": {
       "height": 420,
       "width": 420
      }
     },
     "output_type": "display_data"
    }
   ],
   "source": [
    "graphviz.plot(net)"
   ]
  },
  {
   "cell_type": "code",
   "execution_count": 4,
   "metadata": {},
   "outputs": [],
   "source": [
    "d_sep <- bnlearn:::dseparation"
   ]
  },
  {
   "cell_type": "code",
   "execution_count": 5,
   "metadata": {
    "scrolled": true
   },
   "outputs": [
    {
     "data": {
      "text/html": [
       "FALSE"
      ],
      "text/latex": [
       "FALSE"
      ],
      "text/markdown": [
       "FALSE"
      ],
      "text/plain": [
       "[1] FALSE"
      ]
     },
     "metadata": {},
     "output_type": "display_data"
    }
   ],
   "source": [
    "d_sep(bn = net, x = 'A', y = 'E', z = c('R', 'T'))"
   ]
  },
  {
   "cell_type": "code",
   "execution_count": 6,
   "metadata": {},
   "outputs": [],
   "source": [
    "vars <- nodes(net)\n",
    "pairs <- combn(x = vars, 2, list)\n",
    "arg_sets <- list()\n",
    "for(pair in pairs){\n",
    "  others <- setdiff(vars, pair)\n",
    "  conditioning_sets <- unlist(lapply(0:4, function(.x) combn(others, .x, list)), recursive = F)\n",
    "  for(set in conditioning_sets){\n",
    "    args <- list(x = pair[1], y = pair[2], z = set)\n",
    "    arg_sets <- c(arg_sets, list(args)) \n",
    "  }\n",
    "}"
   ]
  },
  {
   "cell_type": "code",
   "execution_count": 7,
   "metadata": {},
   "outputs": [],
   "source": [
    "d_separated_sets <- list()\n",
    "for(i in 1:length(arg_sets)) {\n",
    "    arg_set <- arg_sets[[i]]\n",
    "  # i-th element of `u1` squared into `i`-th position of `usq`\n",
    "        if( d_sep(bn=net, x=arg_set$x, y=arg_set$y, z=arg_set$z)){\n",
    "            d_separated_sets <- c(d_separated_sets, list(arg_set)) \n",
    "        }\n",
    "}"
   ]
  },
  {
   "cell_type": "code",
   "execution_count": 8,
   "metadata": {},
   "outputs": [
    {
     "name": "stdout",
     "output_type": "stream",
     "text": [
      "$x\n",
      "[1] \"A\"\n",
      "\n",
      "$y\n",
      "[1] \"R\"\n",
      "\n",
      "$z\n",
      "[1] \"E\" \"T\"\n",
      "\n"
     ]
    }
   ],
   "source": [
    "print(d_separated_sets[[12]])"
   ]
  },
  {
   "cell_type": "markdown",
   "metadata": {},
   "source": [
    "A and R  are causally independent of each other given E, T"
   ]
  },
  {
   "cell_type": "markdown",
   "metadata": {},
   "source": [
    "1b. Redundant example : node1 d-separated from node2 given node3 => node1 d-separated from node2 given node3 + any of node3's children"
   ]
  },
  {
   "cell_type": "code",
   "execution_count": 10,
   "metadata": {
    "scrolled": true
   },
   "outputs": [
    {
     "name": "stdout",
     "output_type": "stream",
     "text": [
      "[1] \"E\" \"E\" \"R\"\n",
      "[1] \"E\" \"E\" \"S\"\n",
      "[1] \"E\" \"E\" \"T\"\n",
      "[1] \"E\" \"E\" \"R\" \"S\"\n",
      "[1] \"E\" \"E\" \"R\" \"T\"\n",
      "[1] \"E\" \"E\" \"S\" \"T\"\n",
      "[1] \"E\" \"E\" \"R\" \"S\" \"T\"\n",
      "[1] \"E\" \"E\" \"O\"\n",
      "[1] \"E\" \"E\" \"S\"\n",
      "[1] \"E\" \"E\" \"T\"\n",
      "[1] \"E\" \"E\" \"O\" \"S\"\n",
      "[1] \"E\" \"E\" \"O\" \"T\"\n",
      "[1] \"E\" \"E\" \"S\" \"T\"\n",
      "[1] \"E\" \"E\" \"O\" \"S\" \"T\"\n",
      "[1] \"E\" \"E\" \"O\"\n",
      "[1] \"E\" \"E\" \"R\"\n",
      "[1] \"E\" \"E\" \"S\"\n",
      "[1] \"E\" \"O\" \"R\"\n",
      "[1] \"E\" \"E\" \"O\" \"R\"\n",
      "[1] \"E\" \"E\" \"O\" \"S\"\n",
      "[1] \"E\" \"E\" \"R\" \"S\"\n",
      "[1] \"E\" \"O\" \"R\" \"S\"\n",
      "[1] \"E\" \"E\" \"O\" \"R\" \"S\"\n",
      "[1] \"E\" \"A\" \"E\"\n",
      "[1] \"E\" \"E\" \"S\"\n",
      "[1] \"E\" \"A\" \"E\" \"S\"\n",
      "[1] \"E\" \"A\" \"E\"\n",
      "[1] \"E\" \"E\" \"R\"\n",
      "[1] \"E\" \"E\" \"T\"\n",
      "[1] \"E\" \"A\" \"E\" \"R\"\n",
      "[1] \"E\" \"A\" \"E\" \"T\"\n",
      "[1] \"E\" \"E\" \"R\" \"T\"\n",
      "[1] \"E\" \"A\" \"E\" \"R\" \"T\"\n",
      "[1] \"E\" \"A\" \"E\"\n",
      "[1] \"E\" \"E\" \"O\"\n",
      "[1] \"E\" \"E\" \"T\"\n",
      "[1] \"E\" \"A\" \"E\" \"O\"\n",
      "[1] \"E\" \"A\" \"E\" \"T\"\n",
      "[1] \"E\" \"E\" \"O\" \"T\"\n",
      "[1] \"E\" \"A\" \"E\" \"O\" \"T\"\n",
      "[1] \"E\" \"A\" \"E\"\n",
      "[1] \"E\" \"E\" \"O\"\n",
      "[1] \"E\" \"E\" \"R\"\n",
      "[1] \"E\" \"O\" \"R\"\n",
      "[1] \"E\" \"A\" \"E\" \"O\"\n",
      "[1] \"E\" \"A\" \"E\" \"R\"\n",
      "[1] \"E\" \"A\" \"O\" \"R\"\n",
      "[1] \"E\" \"E\" \"O\" \"R\"\n",
      "[1] \"E\" \"A\" \"E\" \"O\" \"R\"\n"
     ]
    }
   ],
   "source": [
    "redundant_sets <- list()\n",
    "for(i in 1:(length(d_separated_sets) - 1)) {\n",
    "    start_set <- d_separated_sets[[i]]\n",
    "    if(length(start_set$z) == 1){\n",
    "        for(j in (i+1):length(d_separated_sets)) {\n",
    "            end_set <- d_separated_sets[[j]]\n",
    "            if ((start_set$x == end_set$x) & (start_set$y == end_set$y)) {\n",
    "                print(c(start_set$z, end_set$z))\n",
    "            }\n",
    "    #         print(c(start_set, end_set))\n",
    "    #         print(setdiff(end_set$z , start_set$z))\n",
    "    #         print(length(end_set))\n",
    "    #         if((length(setdiff(end_set$z , start_set$z)) == 0) & (length(setdiff(start_set$z, end_set$z)) == 0) & (length(setdiff(end_set$x , start_set$y)) == 0) & (length(setdiff(start_set$y, end_set$x )) == 0)){\n",
    "    #             redundant_sets <- c(redundant_sets, list(start_set), list(end_set))\n",
    "    #             print('a')\n",
    "    #             print(c(start_set, end_set))\n",
    "    #         }\n",
    "        }\n",
    "    }\n",
    "}"
   ]
  },
  {
   "cell_type": "markdown",
   "metadata": {},
   "source": [
    "1e"
   ]
  },
  {
   "cell_type": "code",
   "execution_count": 19,
   "metadata": {},
   "outputs": [
    {
     "name": "stdout",
     "output_type": "stream",
     "text": [
      "[1] \"Markov test\"\n",
      "$x\n",
      "[1] \"A\"\n",
      "\n",
      "$y\n",
      "[1] \"O\"\n",
      "\n",
      "$z\n",
      "[1] \"E\" \"S\"\n",
      "\n",
      "[1] \"Markov test\"\n",
      "$x\n",
      "[1] \"A\"\n",
      "\n",
      "$y\n",
      "[1] \"R\"\n",
      "\n",
      "$z\n",
      "[1] \"E\" \"O\"\n",
      "\n",
      "[1] \"Markov test\"\n",
      "$x\n",
      "[1] \"O\"\n",
      "\n",
      "$y\n",
      "[1] \"S\"\n",
      "\n",
      "$z\n",
      "[1] \"A\" \"E\"\n",
      "\n",
      "[1] \"Markov test\"\n",
      "$x\n",
      "[1] \"O\"\n",
      "\n",
      "$y\n",
      "[1] \"S\"\n",
      "\n",
      "$z\n",
      "[1] \"E\" \"T\"\n",
      "\n",
      "[1] \"Markov test\"\n",
      "$x\n",
      "[1] \"S\"\n",
      "\n",
      "$y\n",
      "[1] \"T\"\n",
      "\n",
      "$z\n",
      "[1] \"E\" \"O\"\n",
      "\n"
     ]
    }
   ],
   "source": [
    "\n",
    "for( d_sep_set in d_separated_sets){\n",
    "    test_outcome <- ci.test(d_sep_set$x, d_sep_set$y,d_sep_set$z, survey)\n",
    "    if(test_outcome$p.value < 0.05) {\n",
    "        print(\"Markov test\")\n",
    "        print(d_sep_set)\n",
    "    }\n",
    "}"
   ]
  },
  {
   "cell_type": "markdown",
   "metadata": {},
   "source": [
    "2a)"
   ]
  },
  {
   "cell_type": "code",
   "execution_count": null,
   "metadata": {},
   "outputs": [],
   "source": [
    "net <- model2network('[A][S][E|A:S][O|E]')\n",
    "nombres <- c('off', 'on')\n",
    "cptA <- matrix(c(0.5, 0.5), ncol=2)\n",
    "dimnames(cptA) <- list(NULL, nombres)\n",
    "cptB <- matrix(c(.8, .2, .1, .9), ncol=2)\n",
    "dimnames(cptB) <- list(B = nombres, A = nombres)\n",
    "cptC <- matrix(c(.9, .1, .99, .01, .1, .9, .4, .6))\n",
    "dim(cptC) <- c(2, 2, 2)\n",
    "dimnames(cptC) <- list(C = nombres, A = nombres, B = nombres)\n",
    "model <- custom.fit(net, list(A = cptA, B = cptB, C = cptC))\n"
   ]
  },
  {
   "cell_type": "code",
   "execution_count": 5,
   "metadata": {},
   "outputs": [],
   "source": [
    "net <- model2network('[A][B|A][C|B:A]')\n",
    "nombres <- c('off', 'on')\n",
    "cptA <- matrix(c(0.5, 0.5), ncol=2)\n",
    "dimnames(cptA) <- list(NULL, nombres)\n",
    "cptB <- matrix(c(.8, .2, .1, .9), ncol=2)\n",
    "dimnames(cptB) <- list(B = nombres, A = nombres)\n",
    "cptC <- matrix(c(.9, .1, .99, .01, .1, .9, .4, .6))\n",
    "dim(cptC) <- c(2, 2, 2)\n",
    "dimnames(cptC) <- list(C = nombres, A = nombres, B = nombres)\n",
    "model <- custom.fit(net, list(A = cptA, B = cptB, C = cptC))\n"
   ]
  },
  {
   "cell_type": "code",
   "execution_count": 8,
   "metadata": {},
   "outputs": [],
   "source": [
    "?rbn"
   ]
  },
  {
   "cell_type": "code",
   "execution_count": null,
   "metadata": {},
   "outputs": [],
   "source": []
  }
 ],
 "metadata": {
  "kernelspec": {
   "display_name": "R",
   "language": "R",
   "name": "ir"
  },
  "language_info": {
   "codemirror_mode": "r",
   "file_extension": ".r",
   "mimetype": "text/x-r-source",
   "name": "R",
   "pygments_lexer": "r",
   "version": "3.4.4"
  }
 },
 "nbformat": 4,
 "nbformat_minor": 2
}
