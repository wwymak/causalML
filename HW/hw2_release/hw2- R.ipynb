{
 "cells": [
  {
   "cell_type": "code",
   "execution_count": 1,
   "metadata": {
    "scrolled": true
   },
   "outputs": [
    {
     "name": "stderr",
     "output_type": "stream",
     "text": [
      "Loading required package: graph\n",
      "\n",
      "Loading required package: BiocGenerics\n",
      "\n",
      "Loading required package: parallel\n",
      "\n",
      "\n",
      "Attaching package: ‘BiocGenerics’\n",
      "\n",
      "\n",
      "The following objects are masked from ‘package:parallel’:\n",
      "\n",
      "    clusterApply, clusterApplyLB, clusterCall, clusterEvalQ,\n",
      "    clusterExport, clusterMap, parApply, parCapply, parLapply,\n",
      "    parLapplyLB, parRapply, parSapply, parSapplyLB\n",
      "\n",
      "\n",
      "The following object is masked from ‘package:bnlearn’:\n",
      "\n",
      "    score\n",
      "\n",
      "\n",
      "The following objects are masked from ‘package:stats’:\n",
      "\n",
      "    IQR, mad, sd, var, xtabs\n",
      "\n",
      "\n",
      "The following objects are masked from ‘package:base’:\n",
      "\n",
      "    anyDuplicated, append, as.data.frame, cbind, colMeans, colnames,\n",
      "    colSums, do.call, duplicated, eval, evalq, Filter, Find, get, grep,\n",
      "    grepl, intersect, is.unsorted, lapply, lengths, Map, mapply, match,\n",
      "    mget, order, paste, pmax, pmax.int, pmin, pmin.int, Position, rank,\n",
      "    rbind, Reduce, rowMeans, rownames, rowSums, sapply, setdiff, sort,\n",
      "    table, tapply, union, unique, unsplit, which, which.max, which.min\n",
      "\n",
      "\n",
      "\n",
      "Attaching package: ‘graph’\n",
      "\n",
      "\n",
      "The following objects are masked from ‘package:bnlearn’:\n",
      "\n",
      "    degree, nodes, nodes<-\n",
      "\n",
      "\n",
      "Loading required package: grid\n",
      "\n"
     ]
    }
   ],
   "source": [
    "library('bnlearn')\n",
    "library(Rgraphviz);"
   ]
  },
  {
   "cell_type": "code",
   "execution_count": 2,
   "metadata": {},
   "outputs": [],
   "source": [
    "survey <- read.delim('survey.txt', sep = \" \")\n",
    "net <-  model2network(\"[A][S][E|A:S][O|E][R|E][T|O:R]\")"
   ]
  },
  {
   "cell_type": "code",
   "execution_count": 3,
   "metadata": {},
   "outputs": [
    {
     "data": {
      "image/png": "[encoded data removed]",
      "text/plain": [
       "plot without title"
      ]
     },
     "metadata": {
      "image/png": {
       "height": 420,
       "width": 420
      },
      "text/plain": {
       "height": 420,
       "width": 420
      }
     },
     "output_type": "display_data"
    }
   ],
   "source": [
    "graphviz.plot(net)"
   ]
  },
  {
   "cell_type": "code",
   "execution_count": 4,
   "metadata": {},
   "outputs": [],
   "source": [
    "d_sep <- bnlearn:::dseparation"
   ]
  },
  {
   "cell_type": "code",
   "execution_count": 5,
   "metadata": {
    "scrolled": true
   },
   "outputs": [
    {
     "data": {
      "text/html": [
       "FALSE"
      ],
      "text/latex": [
       "FALSE"
      ],
      "text/markdown": [
       "FALSE"
      ],
      "text/plain": [
       "[1] FALSE"
      ]
     },
     "metadata": {},
     "output_type": "display_data"
    }
   ],
   "source": [
    "d_sep(bn = net, x = 'A', y = 'E', z = c('R', 'T'))"
   ]
  },
  {
   "cell_type": "code",
   "execution_count": 6,
   "metadata": {},
   "outputs": [],
   "source": [
    "vars <- nodes(net)\n",
    "pairs <- combn(x = vars, 2, list)\n",
    "arg_sets <- list()\n",
    "for(pair in pairs){\n",
    "  others <- setdiff(vars, pair)\n",
    "  conditioning_sets <- unlist(lapply(0:4, function(.x) combn(others, .x, list)), recursive = F)\n",
    "  for(set in conditioning_sets){\n",
    "    args <- list(x = pair[1], y = pair[2], z = set)\n",
    "    arg_sets <- c(arg_sets, list(args)) \n",
    "  }\n",
    "}"
   ]
  },
  {
   "cell_type": "code",
   "execution_count": 7,
   "metadata": {},
   "outputs": [],
   "source": [
    "d_separated_sets <- list()\n",
    "for(i in 1:length(arg_sets)) {\n",
    "    arg_set <- arg_sets[[i]]\n",
    "  # i-th element of `u1` squared into `i`-th position of `usq`\n",
    "        if( d_sep(bn=net, x=arg_set$x, y=arg_set$y, z=arg_set$z)){\n",
    "            d_separated_sets <- c(d_separated_sets, list(arg_set)) \n",
    "        }\n",
    "}"
   ]
  },
  {
   "cell_type": "code",
   "execution_count": 8,
   "metadata": {},
   "outputs": [
    {
     "name": "stdout",
     "output_type": "stream",
     "text": [
      "$x\n",
      "[1] \"A\"\n",
      "\n",
      "$y\n",
      "[1] \"R\"\n",
      "\n",
      "$z\n",
      "[1] \"E\" \"T\"\n",
      "\n"
     ]
    }
   ],
   "source": [
    "print(d_separated_sets[[12]])"
   ]
  },
  {
   "cell_type": "markdown",
   "metadata": {},
   "source": [
    "A and R  are causally independent of each other given E, T"
   ]
  },
  {
   "cell_type": "markdown",
   "metadata": {},
   "source": [
    "1b. Redundant example : node1 d-separated from node2 given node3 => node1 d-separated from node2 given node3 + any of node3's children, e.g. \"A\" and \"O\" are d-separated given E, redudnat statements are any other children of E, e.g. \"A\" and \"O\" are d-separated given E and R"
   ]
  },
  {
   "cell_type": "code",
   "execution_count": 37,
   "metadata": {
    "scrolled": true
   },
   "outputs": [
    {
     "name": "stdout",
     "output_type": "stream",
     "text": [
      "[1] \"redundant: (1 imples 2)\"\n",
      "[1] \"set1\"\n",
      "[1] \"A\" \",\" \"T\" \",\" \"E\"\n",
      "[1] \"set2\"\n",
      "[1] \"A\" \",\" \"T\" \",\" \"E\" \"O\" \"R\"\n",
      "[1] \"redundant: (1 imples 2)\"\n",
      "[1] \"set1\"\n",
      "[1] \"A\" \",\" \"T\" \",\" \"E\"\n",
      "[1] \"set2\"\n",
      "[1] \"A\" \",\" \"T\" \",\" \"E\" \"O\" \"R\" \"S\"\n",
      "[1] \"redundant: (1 imples 2)\"\n",
      "[1] \"set1\"\n",
      "[1] \"S\" \",\" \"T\" \",\" \"E\"\n",
      "[1] \"set2\"\n",
      "[1] \"S\" \",\" \"T\" \",\" \"E\" \"O\" \"R\"\n",
      "[1] \"redundant: (1 imples 2)\"\n",
      "[1] \"set1\"\n",
      "[1] \"S\" \",\" \"T\" \",\" \"E\"\n",
      "[1] \"set2\"\n",
      "[1] \"S\" \",\" \"T\" \",\" \"A\" \"E\" \"O\" \"R\"\n"
     ]
    }
   ],
   "source": [
    "redundant_sets <- list()\n",
    "for(i in 1:(length(d_separated_sets) - 1)) {\n",
    "    start_set <- d_separated_sets[[i]]\n",
    "    if(length(start_set$z) == 1){\n",
    "        for(j in (i+1):length(d_separated_sets)) {\n",
    "            end_set <- d_separated_sets[[j]]\n",
    "            if ((start_set$x == end_set$x) & (start_set$y == end_set$y)) {\n",
    "                setdiff_nodes = setdiff(end_set$z, start_set$z)\n",
    "                intersect_nodes = intersect(end_set$z, start_set$z)\n",
    "                is_redundant <- FALSE\n",
    "                for (node in intersect_nodes) {\n",
    "                    children_of_node <- children(net, node) \n",
    "                    if (length(setdiff(children_of_node, setdiff_nodes)) == 0 ){\n",
    "                        print('redundant: (1 imples 2)')\n",
    "                        print('set1')\n",
    "                        print(c(start_set$x,',', start_set$y,',', start_set$z))\n",
    "                        print('set2')\n",
    "                        print(c(end_set$x, ',', end_set$y, ',',end_set$z))\n",
    "                    }\n",
    "                }\n",
    "            }\n",
    "\n",
    "        }\n",
    "    }\n",
    "}"
   ]
  },
  {
   "cell_type": "markdown",
   "metadata": {},
   "source": []
  },
  {
   "cell_type": "markdown",
   "metadata": {},
   "source": [
    "1c) the dseparation algorithm can be made more efficient by not testing all the redundant sets. e.g. if we know what set 1 node combination implies set 2 and set 3 and we found that set 1 is d-separated then we don't have to test set 2 and set 3"
   ]
  },
  {
   "cell_type": "markdown",
   "metadata": {},
   "source": [
    "1d"
   ]
  },
  {
   "cell_type": "code",
   "execution_count": 38,
   "metadata": {},
   "outputs": [
    {
     "name": "stdout",
     "output_type": "stream",
     "text": [
      "[1] \"Markov test: not true independence\"\n",
      "$x\n",
      "[1] \"A\"\n",
      "\n",
      "$y\n",
      "[1] \"O\"\n",
      "\n",
      "$z\n",
      "[1] \"E\" \"S\"\n",
      "\n",
      "[1] \"Markov test: not true independence\"\n",
      "$x\n",
      "[1] \"A\"\n",
      "\n",
      "$y\n",
      "[1] \"R\"\n",
      "\n",
      "$z\n",
      "[1] \"E\" \"O\"\n",
      "\n",
      "[1] \"Markov test: not true independence\"\n",
      "$x\n",
      "[1] \"O\"\n",
      "\n",
      "$y\n",
      "[1] \"S\"\n",
      "\n",
      "$z\n",
      "[1] \"A\" \"E\"\n",
      "\n",
      "[1] \"Markov test: not true independence\"\n",
      "$x\n",
      "[1] \"O\"\n",
      "\n",
      "$y\n",
      "[1] \"S\"\n",
      "\n",
      "$z\n",
      "[1] \"E\" \"T\"\n",
      "\n",
      "[1] \"Markov test: not true independence\"\n",
      "$x\n",
      "[1] \"S\"\n",
      "\n",
      "$y\n",
      "[1] \"T\"\n",
      "\n",
      "$z\n",
      "[1] \"E\" \"O\"\n",
      "\n"
     ]
    }
   ],
   "source": [
    "\n",
    "for( d_sep_set in d_separated_sets){\n",
    "    test_outcome <- ci.test(d_sep_set$x, d_sep_set$y,d_sep_set$z, survey)\n",
    "    if(test_outcome$p.value < 0.05) {\n",
    "        print(\"Markov test: not true independence\")\n",
    "        print(d_sep_set)\n",
    "    }\n",
    "}"
   ]
  },
  {
   "cell_type": "markdown",
   "metadata": {},
   "source": [
    "### Q2"
   ]
  },
  {
   "cell_type": "markdown",
   "metadata": {},
   "source": [
    "2a)"
   ]
  },
  {
   "cell_type": "code",
   "execution_count": 8,
   "metadata": {},
   "outputs": [],
   "source": [
    "conditional_independent_sets <- list()\n",
    "for(i in 1:length(arg_sets)) {\n",
    "    arg_set <- arg_sets[[i]]\n",
    "    test_outcome <- ci.test(arg_set$x, arg_set$y,arg_set$z, survey)\n",
    "    if(test_outcome$p.value > 0.05) {\n",
    "         conditional_independent_sets <- c(conditional_independent_sets, list(arg_set)) \n",
    "    }\n",
    "}"
   ]
  },
  {
   "cell_type": "code",
   "execution_count": 19,
   "metadata": {},
   "outputs": [
    {
     "name": "stdout",
     "output_type": "stream",
     "text": [
      "[1] 0.9180328\n",
      "[1] 0.3353293\n"
     ]
    }
   ],
   "source": [
    "num_d_separated_sets = length(d_separated_sets)\n",
    "num_conditional_independent_sets = length(conditional_independent_sets)\n",
    "num_both = length(intersect(d_separated_sets,conditional_independent_sets))\n",
    "\n",
    "print(num_both/num_d_separated_sets)\n",
    "print(num_both/num_conditional_independent_sets)"
   ]
  },
  {
   "cell_type": "markdown",
   "metadata": {},
   "source": [
    "2b) proportion of true D-separation statements that are also true conditional independence statements = 0.92"
   ]
  },
  {
   "cell_type": "markdown",
   "metadata": {},
   "source": [
    "2c)the proportion of true conditional independence statements that are also true-deseparation statements = 0.34"
   ]
  },
  {
   "cell_type": "markdown",
   "metadata": {},
   "source": [
    "### Q3"
   ]
  },
  {
   "cell_type": "code",
   "execution_count": 2,
   "metadata": {},
   "outputs": [
    {
     "data": {
      "image/png": "[encoded data removed]",
      "text/plain": [
       "plot without title"
      ]
     },
     "metadata": {
      "image/png": {
       "height": 420,
       "width": 420
      },
      "text/plain": {
       "height": 420,
       "width": 420
      }
     },
     "output_type": "display_data"
    }
   ],
   "source": [
    "net <- model2network('[A][B|A][C|B:A]')\n",
    "nombres <- c('off', 'on')\n",
    "cptA <- matrix(c(0.5, 0.5), ncol=2)\n",
    "dimnames(cptA) <- list(NULL, nombres)\n",
    "cptB <- matrix(c(.8, .2, .1, .9), ncol=2)\n",
    "dimnames(cptB) <- list(B = nombres, A = nombres)\n",
    "cptC <- matrix(c(.9, .1, .99, .01, .1, .9, .4, .6))\n",
    "dim(cptC) <- c(2, 2, 2)\n",
    "dimnames(cptC) <- list(C = nombres, A = nombres, B = nombres)\n",
    "model <- custom.fit(net, list(A = cptA, B = cptB, C = cptC))\n",
    "graphviz.plot(model)"
   ]
  },
  {
   "cell_type": "code",
   "execution_count": 11,
   "metadata": {},
   "outputs": [
    {
     "data": {
      "text/plain": [
       "\n",
       "  Parameters of node A (multinomial distribution)\n",
       "\n",
       "Conditional probability table:\n",
       " \n",
       "off  on \n",
       "0.5 0.5 "
      ]
     },
     "metadata": {},
     "output_type": "display_data"
    }
   ],
   "source": [
    "model$A"
   ]
  },
  {
   "cell_type": "code",
   "execution_count": 12,
   "metadata": {},
   "outputs": [
    {
     "data": {
      "text/plain": [
       "\n",
       "  Parameters of node B (multinomial distribution)\n",
       "\n",
       "Conditional probability table:\n",
       " \n",
       "     A\n",
       "B     off  on\n",
       "  off 0.8 0.1\n",
       "  on  0.2 0.9"
      ]
     },
     "metadata": {},
     "output_type": "display_data"
    }
   ],
   "source": [
    "model$B"
   ]
  },
  {
   "cell_type": "code",
   "execution_count": 13,
   "metadata": {},
   "outputs": [
    {
     "data": {
      "text/plain": [
       "\n",
       "  Parameters of node C (multinomial distribution)\n",
       "\n",
       "Conditional probability table:\n",
       " \n",
       ", , B = off\n",
       "\n",
       "     A\n",
       "C      off   on\n",
       "  off 0.90 0.99\n",
       "  on  0.10 0.01\n",
       "\n",
       ", , B = on\n",
       "\n",
       "     A\n",
       "C      off   on\n",
       "  off 0.10 0.40\n",
       "  on  0.90 0.60\n"
      ]
     },
     "metadata": {},
     "output_type": "display_data"
    }
   ],
   "source": [
    "model$C"
   ]
  },
  {
   "cell_type": "markdown",
   "metadata": {},
   "source": [
    "We want to calculate\n",
    "`P (A|B, C) = P(C|B, A)P(B|A)P(A) / Sum_A(P (C|B, A)P(B|A)P(A))`\n",
    "\n",
    "From probability table:\n",
    " ```\n",
    " P (C=on|B=on, A=on) = 0.6\n",
    " P(B=on|A=on) = 0.9\n",
    " P(A=on)  = 0.5\n",
    " \n",
    " P(C=on|B=on, A=on)P(B=on|A=on)P(A=on) = 0.27\n",
    " \n",
    " P(C=on|B=on, A=off)P(B=on|A=off)P(A=off) = 0.90  * 0.2  * 0.5 = 0.09\n",
    " Sum_A(P (C|B, A)P(B|A)P(A)) = 0.27 + 0.09 = 0.36\n",
    " \n",
    " P (A = on | B = on, C = on) = 0.27/0.36 = 0.75\n",
    " \n",
    " ```\n",
    " "
   ]
  },
  {
   "cell_type": "markdown",
   "metadata": {},
   "source": [
    "3b)"
   ]
  },
  {
   "cell_type": "code",
   "execution_count": 15,
   "metadata": {},
   "outputs": [],
   "source": [
    "\n",
    "samples <- rbn(model, n =50000)\n",
    "samples_b_on_c_on <- subset(samples, (B == 'on' & C=='on'))\n"
   ]
  },
  {
   "cell_type": "code",
   "execution_count": 16,
   "metadata": {},
   "outputs": [
    {
     "name": "stdout",
     "output_type": "stream",
     "text": [
      "[1] 0.7480524\n"
     ]
    }
   ],
   "source": [
    "\n",
    "print(nrow(subset(samples_b_on_c_on, (A == 'on')))/nrow(samples_b_on_c_on))"
   ]
  },
  {
   "cell_type": "markdown",
   "metadata": {},
   "source": [
    "P (A = on | B = on, C = on) calculated with rejection sampling is 0.75"
   ]
  },
  {
   "cell_type": "markdown",
   "metadata": {},
   "source": [
    "3c)"
   ]
  },
  {
   "cell_type": "code",
   "execution_count": 17,
   "metadata": {},
   "outputs": [
    {
     "data": {
      "image/png": "[encoded data removed]",
      "text/plain": [
       "plot without title"
      ]
     },
     "metadata": {
      "image/png": {
       "height": 420,
       "width": 420
      },
      "text/plain": {
       "height": 420,
       "width": 420
      }
     },
     "output_type": "display_data"
    }
   ],
   "source": [
    "intervention_graph = mutilated(model, evidence = list(B = 'on'))\n",
    "graphviz.plot(intervention_graph)"
   ]
  },
  {
   "cell_type": "markdown",
   "metadata": {},
   "source": [
    "3d)"
   ]
  },
  {
   "cell_type": "code",
   "execution_count": 29,
   "metadata": {},
   "outputs": [
    {
     "data": {
      "text/plain": [
       "\n",
       "  Parameters of node A (multinomial distribution)\n",
       "\n",
       "Conditional probability table:\n",
       " \n",
       "off  on \n",
       "0.5 0.5 "
      ]
     },
     "metadata": {},
     "output_type": "display_data"
    }
   ],
   "source": [
    "intervention_graph$A"
   ]
  },
  {
   "cell_type": "code",
   "execution_count": 30,
   "metadata": {},
   "outputs": [
    {
     "data": {
      "text/plain": [
       "\n",
       "  Parameters of node B (multinomial distribution)\n",
       "\n",
       "Conditional probability table:\n",
       " off  on \n",
       "  0   1 "
      ]
     },
     "metadata": {},
     "output_type": "display_data"
    }
   ],
   "source": [
    "intervention_graph$B"
   ]
  },
  {
   "cell_type": "code",
   "execution_count": 31,
   "metadata": {},
   "outputs": [
    {
     "data": {
      "text/plain": [
       "\n",
       "  Parameters of node C (multinomial distribution)\n",
       "\n",
       "Conditional probability table:\n",
       " \n",
       ", , B = off\n",
       "\n",
       "     A\n",
       "C      off   on\n",
       "  off 0.90 0.99\n",
       "  on  0.10 0.01\n",
       "\n",
       ", , B = on\n",
       "\n",
       "     A\n",
       "C      off   on\n",
       "  off 0.10 0.40\n",
       "  on  0.90 0.60\n"
      ]
     },
     "metadata": {},
     "output_type": "display_data"
    }
   ],
   "source": [
    "intervention_graph$C"
   ]
  },
  {
   "cell_type": "code",
   "execution_count": 36,
   "metadata": {},
   "outputs": [
    {
     "data": {
      "text/html": [
       "'[A][B][C|A:B]'"
      ],
      "text/latex": [
       "'{[}A{]}{[}B{]}{[}C\\textbar{}A:B{]}'"
      ],
      "text/markdown": [
       "'[A][B][C|A:B]'"
      ],
      "text/plain": [
       "[1] \"[A][B][C|A:B]\""
      ]
     },
     "metadata": {},
     "output_type": "display_data"
    }
   ],
   "source": [
    "modelstring(intervention_graph)"
   ]
  },
  {
   "cell_type": "markdown",
   "metadata": {},
   "source": [
    "We want to calculate\n",
    "`P (A = on | do(B = on), C = on) = p(A)P(B)P(C|A,B)/Sum_A(P (C|B, A)P(B)P(A))`\n",
    "\n",
    "From probability table:\n",
    " ```\n",
    " P (C=on|B=on, A=on) = 0.6\n",
    " P(B=on) = 1\n",
    " P(A=on)  = 0.5\n",
    " p(A)P(B)P(C|A,B) = 0.30\n",
    " \n",
    "\n",
    "\n",
    "P(C=on|B=on, A=off)P(B=on)P(A=off) = 0.90  * 1  * 0.5 = 0.45\n",
    " Sum_A(P (C|B, A)P(B|A)P(A)) = 0.30 + 0.45 = 0.75\n",
    " \n",
    " P (A = on | do(B = on), C = on) = 0.30/0.75 = 0.40\n",
    " ```"
   ]
  },
  {
   "cell_type": "code",
   "execution_count": 19,
   "metadata": {
    "scrolled": true
   },
   "outputs": [
    {
     "name": "stdout",
     "output_type": "stream",
     "text": [
      "[1] 0.4034943\n"
     ]
    }
   ],
   "source": [
    "samples_intervention <- rbn(intervention_graph, n =50000)\n",
    "samples_do_b_on_c_on <- subset(samples_intervention, (B == 'on' & C=='on'))\n",
    "print(nrow(subset(samples_do_b_on_c_on, (A == 'on')))/nrow(samples_do_b_on_c_on))\n"
   ]
  },
  {
   "cell_type": "markdown",
   "metadata": {},
   "source": [
    "P (A = on | do(B = on), C = on) calculated with rejection sampling is 0.40"
   ]
  },
  {
   "cell_type": "code",
   "execution_count": 4,
   "metadata": {},
   "outputs": [],
   "source": [
    "dag <- empty.graph(nodes = c(\"A\",\"S\",\"E\",\"O\",\"R\",\"T\"))\n",
    "arc.set <- matrix(c(\"A\", \"E\",\n",
    "                    \"S\", \"E\",\n",
    "                    \"E\", \"O\",\n",
    "                    \"E\", \"R\",\n",
    "                    \"O\", \"T\",\n",
    "                    \"R\", \"T\"),\n",
    "                  byrow = TRUE, ncol = 2,\n",
    "                  dimnames = list(NULL, c(\"from\", \"to\")))\n",
    "arcs(dag) <- arc.set\n",
    "A.lv <- c(\"young\", \"adult\", \"old\")\n",
    "S.lv <- c(\"M\", \"F\")\n",
    "E.lv <- c(\"high\", \"uni\")\n",
    "O.lv <- c(\"emp\", \"self\")\n",
    "R.lv <- c(\"small\", \"big\")\n",
    "T.lv <- c(\"car\", \"train\", \"other\")\n",
    "A.prob <- array(c(0.3,0.5,0.2), dim = 3, dimnames = list(A = A.lv))\n",
    "S.prob <- array(c(0.6,0.4), dim = 2, dimnames = list(S = S.lv))\n",
    "E.prob <- array(c(0.75,0.25,0.72,0.28,0.88,0.12,0.64,0.36,0.70,0.30,0.90,0.10), dim = c(2,3,2), dimnames = list(E = E.lv, A = A.lv, S = S.lv))\n",
    "O.prob <- array(c(0.96,0.04,0.92,0.08), dim = c(2,2), dimnames = list(O = O.lv, E = E.lv))\n",
    "R.prob <- array(c(0.25,0.75,0.2,0.8), dim = c(2,2), dimnames = list(R = R.lv, E = E.lv))\n",
    "T.prob <- array(c(0.48,0.42,0.10,0.56,0.36,0.08,0.58,0.24,0.18,0.70,0.21,0.09), dim = c(3,2,2), dimnames = list(T = T.lv, O = O.lv, R = R.lv))\n",
    "cpt <- list(A = A.prob, S = S.prob, E = E.prob, O = O.prob, R = R.prob, T = T.prob)\n",
    "bn <- custom.fit(dag, cpt)\n"
   ]
  },
  {
   "cell_type": "code",
   "execution_count": 8,
   "metadata": {},
   "outputs": [
    {
     "data": {
      "text/plain": [
       "\n",
       "  Parameters of node E (multinomial distribution)\n",
       "\n",
       "Conditional probability table:\n",
       " \n",
       ", , S = M\n",
       "\n",
       "      A\n",
       "E      young adult  old\n",
       "  high  0.75  0.72 0.88\n",
       "  uni   0.25  0.28 0.12\n",
       "\n",
       ", , S = F\n",
       "\n",
       "      A\n",
       "E      young adult  old\n",
       "  high  0.64  0.70 0.90\n",
       "  uni   0.36  0.30 0.10\n"
      ]
     },
     "metadata": {},
     "output_type": "display_data"
    }
   ],
   "source": [
    "bn$E"
   ]
  },
  {
   "cell_type": "code",
   "execution_count": null,
   "metadata": {},
   "outputs": [],
   "source": []
  }
 ],
 "metadata": {
  "kernelspec": {
   "display_name": "R",
   "language": "R",
   "name": "ir"
  },
  "language_info": {
   "codemirror_mode": "r",
   "file_extension": ".r",
   "mimetype": "text/x-r-source",
   "name": "R",
   "pygments_lexer": "r",
   "version": "3.4.4"
  }
 },
 "nbformat": 4,
 "nbformat_minor": 2
}
