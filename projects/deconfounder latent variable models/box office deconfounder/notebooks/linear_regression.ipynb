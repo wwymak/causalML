{
 "cells": [
  {
   "cell_type": "code",
   "execution_count": 1,
   "metadata": {},
   "outputs": [],
   "source": [
    "import os\n",
    "from functools import partial\n",
    "import torch\n",
    "import torch.nn as nn\n",
    "\n",
    "import pyro\n",
    "from pyro.distributions import Normal, Uniform, Delta\n",
    "from pyro.infer import SVI, Trace_ELBO\n",
    "from pyro.optim import Adam\n",
    "from pyro.distributions.util import logsumexp\n",
    "from pyro.infer import EmpiricalMarginal, TracePredictive\n",
    "from pyro.infer.mcmc import MCMC, NUTS\n",
    "import pyro.optim as optim\n",
    "import pyro.poutine as poutine\n",
    "\n",
    "# for CI\n",
    "smoke_test = ('CI' in os.environ)\n",
    "assert pyro.__version__.startswith('0.4.1')\n",
    "pyro.enable_validation(True)\n",
    "pyro.set_rng_seed(1)\n",
    "pyro.enable_validation(True)"
   ]
  },
  {
   "cell_type": "code",
   "execution_count": 2,
   "metadata": {},
   "outputs": [],
   "source": [
    "\"\"\"Loading data\"\"\"\n",
    "\n",
    "import numpy as np\n",
    "import pandas as pd\n",
    "from sklearn.model_selection import train_test_split\n",
    "from sklearn.preprocessing import FunctionTransformer\n",
    "import torch\n",
    "\n",
    "\n",
    "def load_tensor_data(fileloc):\n",
    "    \"\"\"\n",
    "    Helper function to load the actors data, filter by criterias of 1 million\n",
    "    min. revenue and actors in at least 20 movies. Returns actor matrix and\n",
    "    logNormal revenue as torch tensors.\n",
    "    \"\"\"\n",
    "    # Log transform revenue first\n",
    "    # Log transform output\n",
    "    data_actors = pd.read_csv(fileloc, index_col=0)\n",
    "    X = data_actors.iloc[:, 2:]\n",
    "    X_data = torch.Tensor(X.to_numpy(dtype='float32'))\n",
    "    transformer = FunctionTransformer(np.log1p, validate=True)\n",
    "    data_actors[\"log_revenue\"] = transformer.transform(\n",
    "        data_actors[\"revenue\"].values.reshape(-1, 1)\n",
    "    )\n",
    "    Y_data = torch.Tensor(\n",
    "        data_actors[\"log_revenue\"].to_numpy().reshape(X.shape[0], 1)\n",
    "    )\n",
    "\n",
    "    cols_20 = ['title_x', 'revenue', 'log_revenue']\n",
    "    for col in data_actors.columns[2:-1]:\n",
    "        if np.sum(data_actors[col]) >= 20:\n",
    "            cols_20.append(col)\n",
    "\n",
    "    data_million = data_actors[cols_20]\n",
    "    data_million = data_million[data_million[\"revenue\"] > 1000000]\n",
    "    X_all = data_million[\n",
    "        data_million.columns.difference(\n",
    "            ['title_x', 'revenue', 'log_revenue']\n",
    "        )\n",
    "    ]\n",
    "\n",
    "    x_train = X_all\n",
    "    x_train_tensors = torch.tensor(x_train.to_numpy(dtype='float32'))\n",
    "    y_train_tensors = torch.tensor(\n",
    "        data_million['log_revenue'].to_numpy(dtype='float32')\n",
    "    )\n",
    "\n",
    "    return x_train_tensors, y_train_tensors, x_train.columns"
   ]
  },
  {
   "cell_type": "code",
   "execution_count": 3,
   "metadata": {},
   "outputs": [],
   "source": [
    "# Load data from the dataframe\n",
    "x_train_tensors, y_train_tensors, actors = load_tensor_data(\"../data/ohe_movies.csv\")"
   ]
  },
  {
   "cell_type": "code",
   "execution_count": 4,
   "metadata": {},
   "outputs": [],
   "source": [
    "# Lets define a new regression model\n",
    "class RegressionModel(nn.Module):\n",
    "    \n",
    "    def __init__(self, p):\n",
    "        super(RegressionModel, self).__init__()\n",
    "        self.linear = nn.Linear(p, 1)\n",
    "#         self.factor = nn.Parameter(torch.tensor(1.0))\n",
    "        \n",
    "    def forward(self, x):\n",
    "\n",
    "        return self.linear(x).reshape(3181)\n",
    "    \n",
    "    \n",
    "p = 129  # number of actors\n",
    "regression_model = RegressionModel(p)"
   ]
  },
  {
   "cell_type": "code",
   "execution_count": 5,
   "metadata": {},
   "outputs": [],
   "source": [
    "def model(x_data, y_data):\n",
    "    \n",
    "    dims = x_data.shape[1]\n",
    "    # weight, bias, and factor priors\n",
    "    w_prior = Normal(torch.zeros(1, dims), torch.ones(1, dims)).to_event(1)\n",
    "    b_prior = Normal(torch.tensor([[8.]]), torch.tensor([[1000.]])).to_event(1)\n",
    "#     f_prior = Normal(0., 1.)\n",
    "\n",
    "    \n",
    "    priors = {'linear.weight': w_prior, 'linear.bias': b_prior}\n",
    "    scale = pyro.sample(\"sigma\", Uniform(0., 10.))\n",
    "    \n",
    "    lifted_module = pyro.random_module(\"module\", regression_model, priors)\n",
    "    lifted_reg_model = lifted_module()\n",
    "\n",
    "    \n",
    "#     with pyro.plate(\"map\", len(x_data)):\n",
    "        \n",
    "    with pyro.plate(\"map\", len(x_data)):\n",
    "        \n",
    "        prediction_mean = lifted_reg_model(x_data)\n",
    "\n",
    "        \n",
    "        pyro.sample(\"obs\",\n",
    "                   Normal(prediction_mean, scale))\n",
    "\n",
    "        return prediction_mean"
   ]
  },
  {
   "cell_type": "code",
   "execution_count": 6,
   "metadata": {},
   "outputs": [],
   "source": [
    "from pyro.infer.autoguide import AutoDiagonalNormal\n",
    "# initialize the autodiagonal with init_to_feasible instead of init_to_median\n",
    "from pyro.infer.autoguide import init_to_feasible"
   ]
  },
  {
   "cell_type": "code",
   "execution_count": 7,
   "metadata": {},
   "outputs": [],
   "source": [
    "optim = Adam({\"lr\": 0.03})\n",
    "cond_model = pyro.condition(model, data = {\"obs\" : y_train_tensors.reshape(3181)})\n",
    "guide = AutoDiagonalNormal(cond_model, init_loc_fn = init_to_feasible)\n",
    "svi = SVI(cond_model, guide, optim, loss=Trace_ELBO(), num_samples=10000)"
   ]
  },
  {
   "cell_type": "code",
   "execution_count": 8,
   "metadata": {},
   "outputs": [
    {
     "name": "stdout",
     "output_type": "stream",
     "text": [
      "[iteration 0001] loss: 5.1506\n",
      "[iteration 0101] loss: 4.9681\n",
      "[iteration 0201] loss: 5.1123\n",
      "[iteration 0301] loss: 4.4013\n",
      "[iteration 0401] loss: 4.0884\n",
      "[iteration 0501] loss: 3.8867\n",
      "[iteration 0601] loss: 3.8461\n",
      "[iteration 0701] loss: 3.7510\n",
      "[iteration 0801] loss: 3.6523\n",
      "[iteration 0901] loss: 3.5138\n"
     ]
    }
   ],
   "source": [
    "pyro.set_rng_seed(101)\n",
    "num_iterations = 1000\n",
    "def train():\n",
    "    pyro.clear_param_store()\n",
    "    for j in range(num_iterations):\n",
    "        loss = svi.step(x_train_tensors, y_train_tensors.reshape(1, 3181))\n",
    "        if j % 100 == 0:\n",
    "            print(\"[iteration %04d] loss: %.4f\" % (j + 1, loss/len(x_train_tensors)))\n",
    "            \n",
    "train()"
   ]
  },
  {
   "cell_type": "code",
   "execution_count": 9,
   "metadata": {},
   "outputs": [
    {
     "name": "stdout",
     "output_type": "stream",
     "text": [
      "auto_loc tensor([1.6516, 2.4027, 2.2196, 1.7156, 1.7994, 1.8234, 1.8741, 2.0486, 1.8617,\n",
      "        2.2979, 2.5839, 2.1454, 2.3602, 2.0813, 1.6913, 2.2390, 2.1334, 2.5048,\n",
      "        1.7655, 2.1267, 1.8169, 1.5912, 3.0452, 2.4081, 1.7902, 1.3663, 1.9339,\n",
      "        1.7733, 1.6583, 1.9213, 1.7080, 1.6151, 1.7449, 1.9513, 2.3523, 1.5401,\n",
      "        1.3279, 1.9502, 1.5366, 2.0597, 1.7777, 2.4449, 2.0713, 1.9682, 1.9513,\n",
      "        1.5997, 1.8520, 1.9464, 2.6937, 1.9294, 1.9967, 1.5112, 1.9563, 1.9197,\n",
      "        1.9054, 1.7290, 1.7937, 1.5480, 1.7804, 1.3770, 1.6052, 1.7849, 1.9197,\n",
      "        2.2705, 1.5669, 1.9968, 2.0442, 1.6663, 2.1612, 1.4873, 2.8832, 1.5932,\n",
      "        1.6935, 2.0370, 1.6395, 1.9602, 1.6455, 1.7792, 1.9753, 1.5651, 1.6396,\n",
      "        1.5686, 2.2344, 2.2318, 1.3054, 1.6382, 2.3079, 2.7425, 2.0911, 2.1377,\n",
      "        1.7925, 1.9239, 3.1586, 2.7260, 1.8751, 2.2383, 2.0208, 1.5134, 2.3350,\n",
      "        1.8010, 1.7736, 1.6835, 3.2053, 1.9118, 1.9059, 1.7612, 2.3296, 2.0273,\n",
      "        1.8584, 3.0875, 1.9990, 1.7499, 2.1058, 1.9365, 1.9668, 1.9088, 2.0919,\n",
      "        1.6299, 2.0588, 1.8106, 2.3106, 2.7696, 2.7195, 1.7210, 1.6229, 1.6579,\n",
      "        1.9371, 2.3628, 1.9887, 1.7655, 9.3896], requires_grad=True) torch.Size([131])\n",
      "auto_scale tensor([0.4530, 0.8343, 0.8251, 0.9287, 0.8763, 0.8701, 0.9473, 0.8126, 0.9192,\n",
      "        0.7969, 0.9149, 0.8666, 0.8405, 0.8433, 0.8398, 0.8617, 0.9269, 0.8162,\n",
      "        0.8332, 0.9148, 0.7679, 0.9801, 0.8013, 0.7639, 0.8371, 0.8784, 0.7721,\n",
      "        0.9309, 0.8369, 0.8965, 0.8148, 0.8974, 0.8905, 0.8954, 0.8216, 0.8977,\n",
      "        0.8183, 0.8796, 0.9292, 0.8929, 0.9453, 0.8334, 0.8314, 0.8819, 0.8848,\n",
      "        0.8511, 0.8845, 0.9709, 0.8283, 0.9538, 0.8284, 0.7958, 0.9144, 0.9614,\n",
      "        0.8541, 0.8483, 0.8517, 0.8655, 0.9257, 0.8640, 0.8301, 0.9231, 0.7742,\n",
      "        0.7852, 0.9242, 0.7995, 0.8539, 0.9162, 0.8781, 0.8964, 0.8037, 0.8722,\n",
      "        0.8902, 0.8621, 0.8583, 0.9641, 0.8826, 0.9450, 0.9133, 0.9027, 0.8834,\n",
      "        0.8117, 0.8141, 0.8321, 0.8632, 0.8631, 0.8179, 0.8033, 0.7748, 0.9022,\n",
      "        0.8914, 0.9276, 0.7865, 0.8353, 0.8433, 0.8568, 0.8745, 0.7783, 0.8682,\n",
      "        0.8690, 0.8754, 0.8100, 0.7657, 0.8756, 0.8392, 0.8345, 0.8931, 0.8511,\n",
      "        0.8945, 0.7480, 0.9000, 0.8771, 0.9037, 0.9071, 0.8824, 0.9030, 0.8221,\n",
      "        0.8453, 0.8021, 0.8938, 0.8910, 0.8515, 0.8666, 0.8796, 0.9479, 0.9360,\n",
      "        0.8917, 0.8037, 0.8749, 0.8198, 0.4709], grad_fn=<AddBackward0>) torch.Size([131])\n"
     ]
    }
   ],
   "source": [
    "for name, value in pyro.get_param_store().items():\n",
    "    print(name, pyro.param(name), pyro.param(name).shape)"
   ]
  },
  {
   "cell_type": "code",
   "execution_count": 11,
   "metadata": {},
   "outputs": [],
   "source": [
    "pyro.get_param_store().save(\"linreg_params\")"
   ]
  },
  {
   "cell_type": "code",
   "execution_count": null,
   "metadata": {},
   "outputs": [],
   "source": [
    "# Save params "
   ]
  }
 ],
 "metadata": {
  "kernelspec": {
   "display_name": "Python 3",
   "language": "python",
   "name": "python3"
  },
  "language_info": {
   "codemirror_mode": {
    "name": "ipython",
    "version": 3
   },
   "file_extension": ".py",
   "mimetype": "text/x-python",
   "name": "python",
   "nbconvert_exporter": "python",
   "pygments_lexer": "ipython3",
   "version": "3.7.3"
  }
 },
 "nbformat": 4,
 "nbformat_minor": 2
}
